{
  "cells": [
    {
      "cell_type": "markdown",
      "metadata": {
        "id": "view-in-github",
        "colab_type": "text"
      },
      "source": [
        "<a href=\"https://colab.research.google.com/github/jwal1024/Hedonic_DML/blob/main/DoubleML_and_Feature_Engineering_with_BERT.ipynb\" target=\"_parent\"><img src=\"https://colab.research.google.com/assets/colab-badge.svg\" alt=\"Open In Colab\"/></a>"
      ]
    },
    {
      "cell_type": "markdown",
      "metadata": {
        "id": "dYwg9btt1wJH"
      },
      "source": [
        "# BERT"
      ]
    },
    {
      "cell_type": "markdown",
      "metadata": {
        "id": "TgWpXdSIl5KL"
      },
      "source": [
        "## Preliminaries\n"
      ]
    },
    {
      "cell_type": "code",
      "source": [
        "\n",
        "%%capture\n",
        "# Huggingface NLP transforms, and standard ML tool kits\n",
        "!pip install transformers\n",
        "!pip install shap\n",
        "!pip install tensorflow_addons\n",
        "!pip install livelossplot\n",
        "!pip install sqldf\n",
        "!pip install auto-sklearn\n",
        "!pip install -U scikit-learn"
      ],
      "metadata": {
        "id": "Y7hnE0rbdOmB"
      },
      "execution_count": 1,
      "outputs": []
    },
    {
      "cell_type": "code",
      "execution_count": 3,
      "metadata": {
        "id": "hGRPttHC5WJU"
      },
      "outputs": [],
      "source": [
        "# Load dependencies\n",
        "import tensorflow as tf\n",
        "import numpy as np\n",
        "import pandas as pd\n",
        "import sqldf as sql\n",
        "import plotnine as p9; p9.theme_set(p9.theme_bw)\n",
        "\n",
        "from sklearn.preprocessing import OneHotEncoder\n",
        "from sklearn.linear_model import LinearRegression, LogisticRegression\n",
        "import statsmodels.formula.api as sm\n",
        "from transformers import TFBertModel, BertTokenizer, DistilBertTokenizer, TFDistilBertModel\n",
        "from transformers.models.bert.modeling_tf_bert import TFBertMainLayer\n",
        "\n",
        "# Formatting tools\n",
        "from pprint import pformat\n",
        "np.set_printoptions(threshold=10)\n",
        "import warnings\n",
        "warnings.simplefilter('ignore')"
      ]
    },
    {
      "cell_type": "code",
      "source": [
        "ssq = lambda x: np.inner(x,x)\n",
        "def get_r2(y,yhat):\n",
        "    resids = yhat.reshape(-1) - y\n",
        "    flucs = y - np.mean(y)\n",
        "    print('RSS: {}, TSS + MEAN^2: {}, TSS: {}, R^2: {}'.format(ssq(resids), ssq(y), ssq(flucs), 1 - ssq(resids)/ssq(flucs)))"
      ],
      "metadata": {
        "id": "tLiPywGO0ZEd"
      },
      "execution_count": 4,
      "outputs": []
    },
    {
      "cell_type": "code",
      "execution_count": 5,
      "metadata": {
        "colab": {
          "base_uri": "https://localhost:8080/"
        },
        "id": "WPY0wQktrZb1",
        "outputId": "e784550a-9e33-40b7-a8b1-8cacd102c53e"
      },
      "outputs": [
        {
          "output_type": "stream",
          "name": "stdout",
          "text": [
            "Colab only includes TensorFlow 2.x; %tensorflow_version has no effect.\n",
            "Found GPU at: /device:GPU:0\n"
          ]
        }
      ],
      "source": [
        "# Load TensorFlow, and ensure GPU is pressent\n",
        "# The GPU will massively speed up neural network training\n",
        "%tensorflow_version 2.x\n",
        "import tensorflow as tf\n",
        "device_name = tf.test.gpu_device_name()\n",
        "if device_name != '/device:GPU:0':\n",
        "  raise SystemError('GPU device not found')\n",
        "print('Found GPU at: {}'.format(device_name))"
      ]
    },
    {
      "cell_type": "code",
      "execution_count": 6,
      "metadata": {
        "id": "8aNZcJwIcL5T",
        "colab": {
          "base_uri": "https://localhost:8080/",
          "height": 145,
          "referenced_widgets": [
            "347cbf3efb7a42018630912dcc7cb445",
            "be407cc459c14feda0490851be37a6fd",
            "ffcd1734377b40668ee8f29704109b0d",
            "a095480737e641e59158b28af0e3b18d",
            "df6608328a004b27814f2d82964084c0",
            "36d27a5c0bf6439ab361a97a14e7dcd7",
            "18594467a31042edba852ee1fe7d051c",
            "1545f430c6bd4b3597ea8345c834c9a5",
            "2bf81f5a54ee4c9ab73f791b8d00a1c5",
            "19f3c4d08bbb48eaacff1357c887f467",
            "15ac966b8df1466a802a97ab014138de",
            "2bbe8228a2dc4b8db9dbbf676b795900",
            "280056f4a785428b87616dc748ea4e1a",
            "7c7c766e5b73462e8359f31c98492ba2",
            "85abf380c25d490696399fc11e68fa5e",
            "907ed46296ac4e269d1d43188a119f1d",
            "fcd5e50f8a354bf08596f9718bf0f694",
            "88c3cf4588d644d882275bb6a3de50c8",
            "26ea2fc855514ce49755bb24f798bba1",
            "57f2cb5334fa47caa50ed57dd256f1f0",
            "2e75a82b76d44d33bcee259905b6a2af",
            "238eaeb85f6e4d1a9c7263b4093ec0d9",
            "a3b488cc62b643139974cc5a073f27fd",
            "b805c30a9ea94cc1a6a0f7aac4863d62",
            "0f1c251ae3aa48c589cc84ef1cde87ab",
            "b972e7349d5f42f8b4acac810476376a",
            "8151da7bcb3d44e7b82278d4162e38f4",
            "48f09851ae67432cbc8df65dec5570bb",
            "119032d3907446d8a8135e5fbf5f0e6f",
            "09d9109cd35a4401b66562d9989a9982",
            "86cb7fdd412c41eea4bb37d1c4b67c67",
            "c305086ac68d4156b9c6612539b14bae",
            "6aff7e1531d748839b391e6f84a91808",
            "63e9c115f9a445d6b307d4dfb7f02a2e",
            "8f24b3df82ea4d228414a3216420a518",
            "118f156e68b549a0853b80720df69967",
            "e052a77cd0604c52ab3ac8e6adb781ac",
            "d61e4674a1934712ba0f7da929706bed",
            "a66fc7aff091437ca0bd444d9fd43513",
            "430a87a349014a3b98d72879ab192f47",
            "24edd16c6e6546db9b4a4f2e21572cc6",
            "11f2aa7ae775414181546f76cbb76a0c",
            "7a54e06eff3348b0aea58d7108fd0d1d",
            "045076fb0b7f4459b7c7a23d951d0b5c"
          ]
        },
        "outputId": "167bae21-bd38-4403-9835-39cb18462343"
      },
      "outputs": [
        {
          "output_type": "display_data",
          "data": {
            "text/plain": [
              "tokenizer_config.json:   0%|          | 0.00/48.0 [00:00<?, ?B/s]"
            ],
            "application/vnd.jupyter.widget-view+json": {
              "version_major": 2,
              "version_minor": 0,
              "model_id": "347cbf3efb7a42018630912dcc7cb445"
            }
          },
          "metadata": {}
        },
        {
          "output_type": "display_data",
          "data": {
            "text/plain": [
              "vocab.txt:   0%|          | 0.00/232k [00:00<?, ?B/s]"
            ],
            "application/vnd.jupyter.widget-view+json": {
              "version_major": 2,
              "version_minor": 0,
              "model_id": "2bbe8228a2dc4b8db9dbbf676b795900"
            }
          },
          "metadata": {}
        },
        {
          "output_type": "display_data",
          "data": {
            "text/plain": [
              "tokenizer.json:   0%|          | 0.00/466k [00:00<?, ?B/s]"
            ],
            "application/vnd.jupyter.widget-view+json": {
              "version_major": 2,
              "version_minor": 0,
              "model_id": "a3b488cc62b643139974cc5a073f27fd"
            }
          },
          "metadata": {}
        },
        {
          "output_type": "display_data",
          "data": {
            "text/plain": [
              "config.json:   0%|          | 0.00/570 [00:00<?, ?B/s]"
            ],
            "application/vnd.jupyter.widget-view+json": {
              "version_major": 2,
              "version_minor": 0,
              "model_id": "63e9c115f9a445d6b307d4dfb7f02a2e"
            }
          },
          "metadata": {}
        }
      ],
      "source": [
        "# Download text pre-processor (\"tokenizer\")\n",
        "tokenizer = BertTokenizer.from_pretrained(\"bert-base-uncased\")"
      ]
    },
    {
      "cell_type": "code",
      "execution_count": 7,
      "metadata": {
        "colab": {
          "base_uri": "https://localhost:8080/",
          "height": 156,
          "referenced_widgets": [
            "546af4164f724d4494bda5b37e6e3b78",
            "d70894a0e916429184377846bd531dce",
            "63d3b06150594d27b0893c9d76ae272c",
            "9c5278a67b6b4b09920188a15fe1a245",
            "ef902d8cd9954579a071b1476d82df23",
            "157604a050de4c989157dd24bf80a7b2",
            "8c8f3bfd1f39477686cad95437a325c4",
            "932e8097496c46f5b2bbacb171203271",
            "aae513370875443786af499efad6b7ae",
            "b863a6b5ecf34c578eb38c26cbb23163",
            "0e32c8e256ad491882d5c105450d56fc"
          ]
        },
        "id": "K_ljmPI3cEQI",
        "outputId": "65ef5905-5077-4a3d-8c33-953faf1ca8ef"
      },
      "outputs": [
        {
          "output_type": "display_data",
          "data": {
            "text/plain": [
              "model.safetensors:   0%|          | 0.00/440M [00:00<?, ?B/s]"
            ],
            "application/vnd.jupyter.widget-view+json": {
              "version_major": 2,
              "version_minor": 0,
              "model_id": "546af4164f724d4494bda5b37e6e3b78"
            }
          },
          "metadata": {}
        },
        {
          "output_type": "stream",
          "name": "stderr",
          "text": [
            "Some weights of the PyTorch model were not used when initializing the TF 2.0 model TFBertModel: ['cls.predictions.transform.LayerNorm.bias', 'cls.seq_relationship.bias', 'cls.predictions.transform.dense.weight', 'cls.predictions.transform.LayerNorm.weight', 'cls.predictions.bias', 'cls.seq_relationship.weight', 'cls.predictions.transform.dense.bias']\n",
            "- This IS expected if you are initializing TFBertModel from a PyTorch model trained on another task or with another architecture (e.g. initializing a TFBertForSequenceClassification model from a BertForPreTraining model).\n",
            "- This IS NOT expected if you are initializing TFBertModel from a PyTorch model that you expect to be exactly identical (e.g. initializing a TFBertForSequenceClassification model from a BertForSequenceClassification model).\n",
            "All the weights of TFBertModel were initialized from the PyTorch model.\n",
            "If your task is similar to the task the model of the checkpoint was trained on, you can already use TFBertModel for predictions without further training.\n"
          ]
        }
      ],
      "source": [
        "# Download BERT model\n",
        "bert = TFBertModel.from_pretrained(\"bert-base-uncased\")"
      ]
    },
    {
      "cell_type": "markdown",
      "metadata": {
        "id": "26mRwUFwardQ"
      },
      "source": [
        "### Tokenization\n",
        "\n",
        "The first step in using BERT (or any similar text embedding tool) is to *tokenize* the data. This step standardizes blocks of text, so that meaningless differences in text presentation don't affect the behavior of our algorithm.\n",
        "\n",
        "Typically the text is transformed into a sequence of 'tokens,' each of which corresponds to a numeric code."
      ]
    },
    {
      "cell_type": "code",
      "source": [
        "url = \"https://github.com/jwal1024/Hedonic_DML/raw/main/ecom_sample_clean.parquet\"\n",
        "df1 = pd.read_parquet(url)"
      ],
      "metadata": {
        "id": "KmjC8zep3BJS"
      },
      "execution_count": 32,
      "outputs": []
    },
    {
      "cell_type": "code",
      "execution_count": 8,
      "metadata": {
        "colab": {
          "base_uri": "https://localhost:8080/"
        },
        "id": "vnLlb5peTwqM",
        "outputId": "db59a40b-ada1-4408-f794-68ec8c9fcb49"
      },
      "outputs": [
        {
          "output_type": "stream",
          "name": "stdout",
          "text": [
            "Original String: \n",
            "\"What happens to this string?\"\n",
            "\n",
            "Numeric encoding: \n",
            "{'attention_mask': [1, 1, 1, 1, 1, 1, 1, 1],\n",
            " 'input_ids': [101, 2054, 6433, 2000, 2023, 5164, 1029, 102],\n",
            " 'token_type_ids': [0, 0, 0, 0, 0, 0, 0, 0]}\n",
            "\n",
            "Actual tokens:\n"
          ]
        },
        {
          "output_type": "execute_result",
          "data": {
            "text/plain": [
              "['[CLS]', 'what', 'happens', 'to', 'this', 'string', '?', '[SEP]']"
            ]
          },
          "metadata": {},
          "execution_count": 8
        }
      ],
      "source": [
        "# Let's try it out!\n",
        "s = \"What happens to this string?\"\n",
        "print('Original String: \\n\\\"{}\\\"\\n'.format(s))\n",
        "tensors = tokenizer(s)\n",
        "print('Numeric encoding: \\n' + pformat(tensors))\n",
        "\n",
        "# What does this mean?\n",
        "print('\\nActual tokens:')\n",
        "tokenizer.convert_ids_to_tokens(tensors['input_ids'])"
      ]
    },
    {
      "cell_type": "markdown",
      "metadata": {
        "id": "JJaz6eEocefa"
      },
      "source": [
        "### BERT in a nutshell\n",
        "\n",
        "Once we have our numeric tokens, we can simply plug them into the BERT network and get a numeric vector summary. Note that in applications, the BERT summary will be \"fine tuned\" to a particular task, which hasn't happened yet."
      ]
    },
    {
      "cell_type": "code",
      "execution_count": 9,
      "metadata": {
        "colab": {
          "base_uri": "https://localhost:8080/"
        },
        "id": "Q1ODAgBMa3Zg",
        "outputId": "49697d0e-9a1d-4ecc-d4f2-72625cb72bd2"
      },
      "outputs": [
        {
          "output_type": "stream",
          "name": "stdout",
          "text": [
            "Input: \"What happens to this string?\"\n",
            "\n",
            "Output type: <class 'tensorflow.python.framework.ops.EagerTensor'>\n",
            " \n",
            "Output shape: (1, 768)\n",
            "\n",
            "Output preview: array([[-0.9692139 , -0.52474684, -0.9211328 , ..., -0.7552871 ,\n",
            "        -0.8279927 ,  0.96749115]], dtype=float32)\n",
            "\n"
          ]
        }
      ],
      "source": [
        "print('Input: \"What happens to this string?\"\\n')\n",
        "\n",
        "# Tokenize the string\n",
        "tensors_tf = tokenizer(\"What happens to this string?\", return_tensors=\"tf\")\n",
        "\n",
        "# Run it through BERT\n",
        "output = bert(tensors_tf)\n",
        "\n",
        "# Inspect the output\n",
        "_shape = output['pooler_output'].shape\n",
        "print(\n",
        "\"\"\"Output type: {}\\n\n",
        "Output shape: {}\\n\n",
        "Output preview: {}\\n\"\"\"\n",
        ".format(\n",
        "type(output['pooler_output']),\n",
        " _shape,\n",
        "pformat(output['pooler_output'].numpy())))\n"
      ]
    },
    {
      "cell_type": "markdown",
      "metadata": {
        "id": "y_CnEClsl_1p"
      },
      "source": [
        "# A practical introduction to BERT\n",
        "\n",
        "In the next part of the notebook, we are going to explore how a tool like BERT may be useful for causal inference.\n",
        "\n",
        "In particular, we are going to apply BERT to a subset of data from the Amazon marketplace consisting of roughly 10,000 listings for products in the toy category. Each product comes with a text description, a price, and a number of times reviewed (which we'll use as a proxy for demand / market share).\n",
        "\n",
        "For more information on the dataset, checkout the [Dataset README](https://github.com/CausalAIBook/MetricsMLNotebooks/blob/main/data/amazon_toys.md).\n",
        "\n",
        "**Problem 1**:\n",
        "What are some issues you may anticipate when using number of reviews as a proxy for demand or market share?\n",
        "\n",
        "### Getting to know the data\n",
        "\n",
        "First, we'll download and clean up the data, and do some preliminary inspection."
      ]
    },
    {
      "cell_type": "code",
      "source": [
        "DATA_URL = 'https://github.com/CausalAIBook/MetricsMLNotebooks/raw/main/data/amazon_toys.csv'\n",
        "data = pd.read_csv(DATA_URL)"
      ],
      "metadata": {
        "id": "5kzXygwH0BKw"
      },
      "execution_count": 23,
      "outputs": []
    },
    {
      "cell_type": "code",
      "source": [
        "data.columns"
      ],
      "metadata": {
        "colab": {
          "base_uri": "https://localhost:8080/"
        },
        "id": "NDgWwxUWErnh",
        "outputId": "a83eeede-f22f-42c3-d6ef-93bda9c3bfbd"
      },
      "execution_count": 11,
      "outputs": [
        {
          "output_type": "execute_result",
          "data": {
            "text/plain": [
              "Index(['uniq_id', 'product_name', 'manufacturer', 'price',\n",
              "       'number_available_in_stock', 'number_of_reviews',\n",
              "       'number_of_answered_questions', 'average_review_rating',\n",
              "       'amazon_category_and_sub_category',\n",
              "       'customers_who_bought_this_item_also_bought', 'description',\n",
              "       'product_information', 'product_description',\n",
              "       'items_customers_buy_after_viewing_this_item',\n",
              "       'customer_questions_and_answers', 'customer_reviews', 'sellers'],\n",
              "      dtype='object')"
            ]
          },
          "metadata": {},
          "execution_count": 11
        }
      ]
    },
    {
      "cell_type": "code",
      "source": [],
      "metadata": {
        "id": "Fl5dezWe0AhS",
        "outputId": "e132fa96-992e-47de-9e1e-83c5ae9d42d5",
        "colab": {
          "base_uri": "https://localhost:8080/"
        }
      },
      "execution_count": 19,
      "outputs": [
        {
          "output_type": "execute_result",
          "data": {
            "text/plain": [
              "8872    1,040\n",
              "Name: number_of_reviews, dtype: object"
            ]
          },
          "metadata": {},
          "execution_count": 19
        }
      ]
    },
    {
      "cell_type": "code",
      "execution_count": 24,
      "metadata": {
        "colab": {
          "base_uri": "https://localhost:8080/",
          "height": 206
        },
        "id": "1Su5vOGhD3Df",
        "outputId": "58f2c9a0-f842-4a1d-b7c1-aa6fc73fb0bf"
      },
      "outputs": [
        {
          "output_type": "execute_result",
          "data": {
            "text/plain": [
              "                                                text      ln_p       ln_q  \\\n",
              "0  Hornby 2014 Catalogue | Hornby | Product Descr...  1.229641  -8.713144   \n",
              "1  FunkyBuys® Large Christmas Holiday Express Fes...  2.832625 -10.728047   \n",
              "2  CLASSIC TOY TRAIN SET TRACK CARRIAGES LIGHT EN...  2.301585  -8.587981   \n",
              "3  HORNBY Coach R4410A BR Hawksworth Corridor 3rd...  3.688629 -11.421194   \n",
              "4  Hornby 00 Gauge 0-4-0 Gildenlow Salt Co. Steam...  3.471656 -10.322582   \n",
              "\n",
              "                    amazon_category_and_sub_category  \n",
              "0  Hobbies > Model Trains & Railway Sets > Rail V...  \n",
              "1  Hobbies > Model Trains & Railway Sets > Rail V...  \n",
              "2  Hobbies > Model Trains & Railway Sets > Rail V...  \n",
              "3  Hobbies > Model Trains & Railway Sets > Rail V...  \n",
              "4  Hobbies > Model Trains & Railway Sets > Rail V...  "
            ],
            "text/html": [
              "\n",
              "  <div id=\"df-2801ee50-2249-45fd-9854-1056820b9ff7\" class=\"colab-df-container\">\n",
              "    <div>\n",
              "<style scoped>\n",
              "    .dataframe tbody tr th:only-of-type {\n",
              "        vertical-align: middle;\n",
              "    }\n",
              "\n",
              "    .dataframe tbody tr th {\n",
              "        vertical-align: top;\n",
              "    }\n",
              "\n",
              "    .dataframe thead th {\n",
              "        text-align: right;\n",
              "    }\n",
              "</style>\n",
              "<table border=\"1\" class=\"dataframe\">\n",
              "  <thead>\n",
              "    <tr style=\"text-align: right;\">\n",
              "      <th></th>\n",
              "      <th>text</th>\n",
              "      <th>ln_p</th>\n",
              "      <th>ln_q</th>\n",
              "      <th>amazon_category_and_sub_category</th>\n",
              "    </tr>\n",
              "  </thead>\n",
              "  <tbody>\n",
              "    <tr>\n",
              "      <th>0</th>\n",
              "      <td>Hornby 2014 Catalogue | Hornby | Product Descr...</td>\n",
              "      <td>1.229641</td>\n",
              "      <td>-8.713144</td>\n",
              "      <td>Hobbies &gt; Model Trains &amp; Railway Sets &gt; Rail V...</td>\n",
              "    </tr>\n",
              "    <tr>\n",
              "      <th>1</th>\n",
              "      <td>FunkyBuys® Large Christmas Holiday Express Fes...</td>\n",
              "      <td>2.832625</td>\n",
              "      <td>-10.728047</td>\n",
              "      <td>Hobbies &gt; Model Trains &amp; Railway Sets &gt; Rail V...</td>\n",
              "    </tr>\n",
              "    <tr>\n",
              "      <th>2</th>\n",
              "      <td>CLASSIC TOY TRAIN SET TRACK CARRIAGES LIGHT EN...</td>\n",
              "      <td>2.301585</td>\n",
              "      <td>-8.587981</td>\n",
              "      <td>Hobbies &gt; Model Trains &amp; Railway Sets &gt; Rail V...</td>\n",
              "    </tr>\n",
              "    <tr>\n",
              "      <th>3</th>\n",
              "      <td>HORNBY Coach R4410A BR Hawksworth Corridor 3rd...</td>\n",
              "      <td>3.688629</td>\n",
              "      <td>-11.421194</td>\n",
              "      <td>Hobbies &gt; Model Trains &amp; Railway Sets &gt; Rail V...</td>\n",
              "    </tr>\n",
              "    <tr>\n",
              "      <th>4</th>\n",
              "      <td>Hornby 00 Gauge 0-4-0 Gildenlow Salt Co. Steam...</td>\n",
              "      <td>3.471656</td>\n",
              "      <td>-10.322582</td>\n",
              "      <td>Hobbies &gt; Model Trains &amp; Railway Sets &gt; Rail V...</td>\n",
              "    </tr>\n",
              "  </tbody>\n",
              "</table>\n",
              "</div>\n",
              "    <div class=\"colab-df-buttons\">\n",
              "\n",
              "  <div class=\"colab-df-container\">\n",
              "    <button class=\"colab-df-convert\" onclick=\"convertToInteractive('df-2801ee50-2249-45fd-9854-1056820b9ff7')\"\n",
              "            title=\"Convert this dataframe to an interactive table.\"\n",
              "            style=\"display:none;\">\n",
              "\n",
              "  <svg xmlns=\"http://www.w3.org/2000/svg\" height=\"24px\" viewBox=\"0 -960 960 960\">\n",
              "    <path d=\"M120-120v-720h720v720H120Zm60-500h600v-160H180v160Zm220 220h160v-160H400v160Zm0 220h160v-160H400v160ZM180-400h160v-160H180v160Zm440 0h160v-160H620v160ZM180-180h160v-160H180v160Zm440 0h160v-160H620v160Z\"/>\n",
              "  </svg>\n",
              "    </button>\n",
              "\n",
              "  <style>\n",
              "    .colab-df-container {\n",
              "      display:flex;\n",
              "      gap: 12px;\n",
              "    }\n",
              "\n",
              "    .colab-df-convert {\n",
              "      background-color: #E8F0FE;\n",
              "      border: none;\n",
              "      border-radius: 50%;\n",
              "      cursor: pointer;\n",
              "      display: none;\n",
              "      fill: #1967D2;\n",
              "      height: 32px;\n",
              "      padding: 0 0 0 0;\n",
              "      width: 32px;\n",
              "    }\n",
              "\n",
              "    .colab-df-convert:hover {\n",
              "      background-color: #E2EBFA;\n",
              "      box-shadow: 0px 1px 2px rgba(60, 64, 67, 0.3), 0px 1px 3px 1px rgba(60, 64, 67, 0.15);\n",
              "      fill: #174EA6;\n",
              "    }\n",
              "\n",
              "    .colab-df-buttons div {\n",
              "      margin-bottom: 4px;\n",
              "    }\n",
              "\n",
              "    [theme=dark] .colab-df-convert {\n",
              "      background-color: #3B4455;\n",
              "      fill: #D2E3FC;\n",
              "    }\n",
              "\n",
              "    [theme=dark] .colab-df-convert:hover {\n",
              "      background-color: #434B5C;\n",
              "      box-shadow: 0px 1px 3px 1px rgba(0, 0, 0, 0.15);\n",
              "      filter: drop-shadow(0px 1px 2px rgba(0, 0, 0, 0.3));\n",
              "      fill: #FFFFFF;\n",
              "    }\n",
              "  </style>\n",
              "\n",
              "    <script>\n",
              "      const buttonEl =\n",
              "        document.querySelector('#df-2801ee50-2249-45fd-9854-1056820b9ff7 button.colab-df-convert');\n",
              "      buttonEl.style.display =\n",
              "        google.colab.kernel.accessAllowed ? 'block' : 'none';\n",
              "\n",
              "      async function convertToInteractive(key) {\n",
              "        const element = document.querySelector('#df-2801ee50-2249-45fd-9854-1056820b9ff7');\n",
              "        const dataTable =\n",
              "          await google.colab.kernel.invokeFunction('convertToInteractive',\n",
              "                                                    [key], {});\n",
              "        if (!dataTable) return;\n",
              "\n",
              "        const docLinkHtml = 'Like what you see? Visit the ' +\n",
              "          '<a target=\"_blank\" href=https://colab.research.google.com/notebooks/data_table.ipynb>data table notebook</a>'\n",
              "          + ' to learn more about interactive tables.';\n",
              "        element.innerHTML = '';\n",
              "        dataTable['output_type'] = 'display_data';\n",
              "        await google.colab.output.renderOutput(dataTable, element);\n",
              "        const docLink = document.createElement('div');\n",
              "        docLink.innerHTML = docLinkHtml;\n",
              "        element.appendChild(docLink);\n",
              "      }\n",
              "    </script>\n",
              "  </div>\n",
              "\n",
              "\n",
              "<div id=\"df-b6662cab-c2e8-440d-bf9f-9668acf7c0db\">\n",
              "  <button class=\"colab-df-quickchart\" onclick=\"quickchart('df-b6662cab-c2e8-440d-bf9f-9668acf7c0db')\"\n",
              "            title=\"Suggest charts\"\n",
              "            style=\"display:none;\">\n",
              "\n",
              "<svg xmlns=\"http://www.w3.org/2000/svg\" height=\"24px\"viewBox=\"0 0 24 24\"\n",
              "     width=\"24px\">\n",
              "    <g>\n",
              "        <path d=\"M19 3H5c-1.1 0-2 .9-2 2v14c0 1.1.9 2 2 2h14c1.1 0 2-.9 2-2V5c0-1.1-.9-2-2-2zM9 17H7v-7h2v7zm4 0h-2V7h2v10zm4 0h-2v-4h2v4z\"/>\n",
              "    </g>\n",
              "</svg>\n",
              "  </button>\n",
              "\n",
              "<style>\n",
              "  .colab-df-quickchart {\n",
              "      --bg-color: #E8F0FE;\n",
              "      --fill-color: #1967D2;\n",
              "      --hover-bg-color: #E2EBFA;\n",
              "      --hover-fill-color: #174EA6;\n",
              "      --disabled-fill-color: #AAA;\n",
              "      --disabled-bg-color: #DDD;\n",
              "  }\n",
              "\n",
              "  [theme=dark] .colab-df-quickchart {\n",
              "      --bg-color: #3B4455;\n",
              "      --fill-color: #D2E3FC;\n",
              "      --hover-bg-color: #434B5C;\n",
              "      --hover-fill-color: #FFFFFF;\n",
              "      --disabled-bg-color: #3B4455;\n",
              "      --disabled-fill-color: #666;\n",
              "  }\n",
              "\n",
              "  .colab-df-quickchart {\n",
              "    background-color: var(--bg-color);\n",
              "    border: none;\n",
              "    border-radius: 50%;\n",
              "    cursor: pointer;\n",
              "    display: none;\n",
              "    fill: var(--fill-color);\n",
              "    height: 32px;\n",
              "    padding: 0;\n",
              "    width: 32px;\n",
              "  }\n",
              "\n",
              "  .colab-df-quickchart:hover {\n",
              "    background-color: var(--hover-bg-color);\n",
              "    box-shadow: 0 1px 2px rgba(60, 64, 67, 0.3), 0 1px 3px 1px rgba(60, 64, 67, 0.15);\n",
              "    fill: var(--button-hover-fill-color);\n",
              "  }\n",
              "\n",
              "  .colab-df-quickchart-complete:disabled,\n",
              "  .colab-df-quickchart-complete:disabled:hover {\n",
              "    background-color: var(--disabled-bg-color);\n",
              "    fill: var(--disabled-fill-color);\n",
              "    box-shadow: none;\n",
              "  }\n",
              "\n",
              "  .colab-df-spinner {\n",
              "    border: 2px solid var(--fill-color);\n",
              "    border-color: transparent;\n",
              "    border-bottom-color: var(--fill-color);\n",
              "    animation:\n",
              "      spin 1s steps(1) infinite;\n",
              "  }\n",
              "\n",
              "  @keyframes spin {\n",
              "    0% {\n",
              "      border-color: transparent;\n",
              "      border-bottom-color: var(--fill-color);\n",
              "      border-left-color: var(--fill-color);\n",
              "    }\n",
              "    20% {\n",
              "      border-color: transparent;\n",
              "      border-left-color: var(--fill-color);\n",
              "      border-top-color: var(--fill-color);\n",
              "    }\n",
              "    30% {\n",
              "      border-color: transparent;\n",
              "      border-left-color: var(--fill-color);\n",
              "      border-top-color: var(--fill-color);\n",
              "      border-right-color: var(--fill-color);\n",
              "    }\n",
              "    40% {\n",
              "      border-color: transparent;\n",
              "      border-right-color: var(--fill-color);\n",
              "      border-top-color: var(--fill-color);\n",
              "    }\n",
              "    60% {\n",
              "      border-color: transparent;\n",
              "      border-right-color: var(--fill-color);\n",
              "    }\n",
              "    80% {\n",
              "      border-color: transparent;\n",
              "      border-right-color: var(--fill-color);\n",
              "      border-bottom-color: var(--fill-color);\n",
              "    }\n",
              "    90% {\n",
              "      border-color: transparent;\n",
              "      border-bottom-color: var(--fill-color);\n",
              "    }\n",
              "  }\n",
              "</style>\n",
              "\n",
              "  <script>\n",
              "    async function quickchart(key) {\n",
              "      const quickchartButtonEl =\n",
              "        document.querySelector('#' + key + ' button');\n",
              "      quickchartButtonEl.disabled = true;  // To prevent multiple clicks.\n",
              "      quickchartButtonEl.classList.add('colab-df-spinner');\n",
              "      try {\n",
              "        const charts = await google.colab.kernel.invokeFunction(\n",
              "            'suggestCharts', [key], {});\n",
              "      } catch (error) {\n",
              "        console.error('Error during call to suggestCharts:', error);\n",
              "      }\n",
              "      quickchartButtonEl.classList.remove('colab-df-spinner');\n",
              "      quickchartButtonEl.classList.add('colab-df-quickchart-complete');\n",
              "    }\n",
              "    (() => {\n",
              "      let quickchartButtonEl =\n",
              "        document.querySelector('#df-b6662cab-c2e8-440d-bf9f-9668acf7c0db button');\n",
              "      quickchartButtonEl.style.display =\n",
              "        google.colab.kernel.accessAllowed ? 'block' : 'none';\n",
              "    })();\n",
              "  </script>\n",
              "</div>\n",
              "\n",
              "    </div>\n",
              "  </div>\n"
            ],
            "application/vnd.google.colaboratory.intrinsic+json": {
              "type": "dataframe",
              "variable_name": "data",
              "summary": "{\n  \"name\": \"data\",\n  \"rows\": 8003,\n  \"fields\": [\n    {\n      \"column\": \"text\",\n      \"properties\": {\n        \"dtype\": \"string\",\n        \"num_unique_values\": 7990,\n        \"samples\": [\n          \"Holographic Hen Party Night Do Banner Decoration - 2.7m long | OakTree | If you require any assistance in placing your order you can contact us at Fancy Pants Store and someone will be glad to help.\",\n          \"Tales & Legends - Princess With Lyre On Her Horse Hand Painted Figure | Papo | Tales & Legends - Princess With Lyre On Her Horse 39057\",\n          \"BrainBox - British History | The Green Board Game Co. | Product Description BrainBox is a fast and fun memory game that does not require any pens, pencils, paper, playing board or even a table! Each round takes 10 seconds so all players are involved. A game lasts as long as you want it to, 10 minutes is the norm, but playing for 5 minutes is great fun also. BrainBox is educational and is perfect for families and groups of friends to play, wherever they are, on a level-playing field. Packed in a sturdy cool magnetic cube box. BrainBox is ready to play without any set-up time needed. The rules are pretty straight forward. You can play solo or with as many people as you want. A player simply picks a card and studies it for 10 seconds before being asked a question from the back, chosen by the roll of a die. A correct answer means the card is kept, if not it is returned to the box. The player with most cards after 5 or 10 minutes wins! The winner may not be who you expect as this fabulous game is about observation and memory, not learned facts! BrainBox British History including 54 cards is the fun way to learn all about our History, From Stonehenge and Henry VIII to the Channel Tunnel. Manufacturer's Description The object of the game is to win as many cards as possible in ten minutes.The first player takes a card from the BrainBox and turns the timer over. The player then has ten seconds to study the picture on the card. When the timer runs out the card is passed to player two and player one rolls the die to see which question is to be asked. The questions are on the reverse of the picture card. Player two checks the answer by looking at the picture and if it is correct the card is given back to player one to keep. If the answer is wrong the card is placed back into the BrainBox and the next player chooses a card. Please remember, the answer to the question is on the picture side of the card, so look carefully!The player with the most cards after ten minutes wins!If there is a tie, it's sudden death with both players choosing a card and having to answer all eight questions on the card. The player who answers the most correctly wins! For 1 Or More Players, ages 8+Contains 71 illustrated cards, 1 rules card, 1 timer and 1 eight sided die.Have fun! See all Product Description\"\n        ],\n        \"semantic_type\": \"\",\n        \"description\": \"\"\n      }\n    },\n    {\n      \"column\": \"ln_p\",\n      \"properties\": {\n        \"dtype\": \"number\",\n        \"std\": 1.1250920992457993,\n        \"min\": -4.605170185988091,\n        \"max\": 6.902853283811905,\n        \"num_unique_values\": 2489,\n        \"samples\": [\n          0.9082585601768908,\n          2.551006451492524,\n          4.499253960396542\n        ],\n        \"semantic_type\": \"\",\n        \"description\": \"\"\n      }\n    },\n    {\n      \"column\": \"ln_q\",\n      \"properties\": {\n        \"dtype\": \"number\",\n        \"std\": 1.2535038493299018,\n        \"min\": -11.421193874370635,\n        \"max\": -4.177680899705154,\n        \"num_unique_values\": 183,\n        \"samples\": [\n          -9.11860878137659,\n          -5.747870607199143,\n          -6.377768757451389\n        ],\n        \"semantic_type\": \"\",\n        \"description\": \"\"\n      }\n    },\n    {\n      \"column\": \"amazon_category_and_sub_category\",\n      \"properties\": {\n        \"dtype\": \"category\",\n        \"num_unique_values\": 236,\n        \"samples\": [\n          \"Hobbies > Remote Controlled Devices > Helicopters & Quadcopters\",\n          \"Sports Toys & Outdoor > Kites & Flight Toys\",\n          \"Baby & Toddler Toys > Rocking Horses\"\n        ],\n        \"semantic_type\": \"\",\n        \"description\": \"\"\n      }\n    }\n  ]\n}"
            }
          },
          "metadata": {},
          "execution_count": 24
        }
      ],
      "source": [
        "# Clean numeric data fields (remove all non-digit characters and parse as a numeric value)\n",
        "\n",
        "data['number_of_reviews'] = pd.to_numeric(data\n",
        "                                          .number_of_reviews\n",
        "                                          .str.replace(',', '', regex=True)\n",
        "                                          .str.replace(r\"\\D+\", '', regex=True))\n",
        "\n",
        "data['price'] = (data\n",
        "                    .price\n",
        "                    .str.extract(r'(\\d+\\.*\\d+)')\n",
        "                    .astype('float'))\n",
        "\n",
        "# Drop products with very few reviews\n",
        "data = data[data['number_of_reviews'] > 0]\n",
        "\n",
        "# Compute log prices\n",
        "data['ln_p'] = np.log(data.price)\n",
        "\n",
        "# Impute market shares from # of reviews\n",
        "data['ln_q'] =  np.log(data['number_of_reviews'] / data['number_of_reviews'].sum())\n",
        "\n",
        "# Collect relevant text data\n",
        "data['text'] = (data[[\n",
        "                    'product_name',\n",
        "                    'manufacturer',\n",
        "                    'product_description'\n",
        "                    ]]\n",
        "                  .astype('str')\n",
        "                  .agg(' | '.join, axis=1))\n",
        "\n",
        "#  Drop irrelevant data and inspect\n",
        "data = data[['text','ln_p','ln_q', 'amazon_category_and_sub_category']]\n",
        "data = data.dropna()\n",
        "data.head()"
      ]
    },
    {
      "cell_type": "code",
      "source": [
        "# Text lengths\n",
        "data['text_num_words'] = data['text'].str.split().apply(len)\n",
        "print(np.nanquantile(data['text_num_words'], 0.99))\n",
        "(p9.ggplot(data, p9.aes('text_num_words')) + p9.geom_density())"
      ],
      "metadata": {
        "colab": {
          "base_uri": "https://localhost:8080/",
          "height": 532
        },
        "id": "lovFEHaWp4lC",
        "outputId": "cab74789-44ce-4813-8a2d-1adbb6fdfe71"
      },
      "execution_count": 25,
      "outputs": [
        {
          "output_type": "stream",
          "name": "stdout",
          "text": [
            "313.97999999999956\n"
          ]
        },
        {
          "output_type": "display_data",
          "data": {
            "text/plain": [
              "<Figure size 640x480 with 1 Axes>"
            ],
            "image/png": "[encoded data removed]"
          },
          "metadata": {
            "image/png": {
              "width": 640,
              "height": 480
            }
          }
        },
        {
          "output_type": "execute_result",
          "data": {
            "text/plain": [
              "<Figure Size: (640 x 480)>"
            ]
          },
          "metadata": {},
          "execution_count": 25
        }
      ]
    },
    {
      "cell_type": "markdown",
      "metadata": {
        "id": "CDlHPQZfcv7I"
      },
      "source": [
        "Let's make a two-way scatter plot of prices and (proxied) market shares."
      ]
    },
    {
      "cell_type": "code",
      "source": [
        "(p9.ggplot(data, p9.aes('ln_p','ln_q')) + p9.geom_point() + p9.stat_smooth(color=\"red\"))"
      ],
      "metadata": {
        "colab": {
          "base_uri": "https://localhost:8080/",
          "height": 514
        },
        "id": "dNujhir1q_0N",
        "outputId": "a1e65750-1bc7-4793-c3c2-f0a0fe491e53"
      },
      "execution_count": 26,
      "outputs": [
        {
          "output_type": "display_data",
          "data": {
            "text/plain": [
              "<Figure size 640x480 with 1 Axes>"
            ],
            "image/png": "[encoded data removed]"
          },
          "metadata": {
            "image/png": {
              "width": 640,
              "height": 480
            }
          }
        },
        {
          "output_type": "execute_result",
          "data": {
            "text/plain": [
              "<Figure Size: (640 x 480)>"
            ]
          },
          "metadata": {},
          "execution_count": 26
        }
      ]
    },
    {
      "cell_type": "code",
      "source": [
        "(p9.ggplot(data, p9.aes('ln_p','ln_q')) + p9.stat_smooth(color=\"red\"))"
      ],
      "metadata": {
        "colab": {
          "base_uri": "https://localhost:8080/",
          "height": 514
        },
        "id": "t7axTjsnq8qI",
        "outputId": "24bdee94-fa4b-475e-a282-c85e3b9889a8"
      },
      "execution_count": 27,
      "outputs": [
        {
          "output_type": "display_data",
          "data": {
            "text/plain": [
              "<Figure size 640x480 with 1 Axes>"
            ],
            "image/png": "[encoded data removed]"
          },
          "metadata": {
            "image/png": {
              "width": 640,
              "height": 480
            }
          }
        },
        {
          "output_type": "execute_result",
          "data": {
            "text/plain": [
              "<Figure Size: (640 x 480)>"
            ]
          },
          "metadata": {},
          "execution_count": 27
        }
      ]
    },
    {
      "cell_type": "code",
      "source": [
        "result = sm.ols('ln_q ~ ln_p ', data=data).fit() # + C(subcat)\n",
        "print('Elasticity: {}, SE: {}, R2: {}'.format(result.params['ln_p'],result.bse['ln_p'], result.rsquared_adj))\n",
        "result.conf_int(alpha=0.05)"
      ],
      "metadata": {
        "colab": {
          "base_uri": "https://localhost:8080/",
          "height": 129
        },
        "id": "aZPOUT5SvR4o",
        "outputId": "3d231579-794d-4e90-9c4d-cb0f40b25fb5"
      },
      "execution_count": 28,
      "outputs": [
        {
          "output_type": "stream",
          "name": "stdout",
          "text": [
            "Elasticity: -0.06334293251006756, SE: 0.01243547631340123, R2: 0.0031077901369295224\n"
          ]
        },
        {
          "output_type": "execute_result",
          "data": {
            "text/plain": [
              "                   0          1\n",
              "Intercept -10.291813 -10.167009\n",
              "ln_p       -0.087720  -0.038966"
            ],
            "text/html": [
              "\n",
              "  <div id=\"df-f428f5ba-bcb5-4e3c-9378-a202708a77a5\" class=\"colab-df-container\">\n",
              "    <div>\n",
              "<style scoped>\n",
              "    .dataframe tbody tr th:only-of-type {\n",
              "        vertical-align: middle;\n",
              "    }\n",
              "\n",
              "    .dataframe tbody tr th {\n",
              "        vertical-align: top;\n",
              "    }\n",
              "\n",
              "    .dataframe thead th {\n",
              "        text-align: right;\n",
              "    }\n",
              "</style>\n",
              "<table border=\"1\" class=\"dataframe\">\n",
              "  <thead>\n",
              "    <tr style=\"text-align: right;\">\n",
              "      <th></th>\n",
              "      <th>0</th>\n",
              "      <th>1</th>\n",
              "    </tr>\n",
              "  </thead>\n",
              "  <tbody>\n",
              "    <tr>\n",
              "      <th>Intercept</th>\n",
              "      <td>-10.291813</td>\n",
              "      <td>-10.167009</td>\n",
              "    </tr>\n",
              "    <tr>\n",
              "      <th>ln_p</th>\n",
              "      <td>-0.087720</td>\n",
              "      <td>-0.038966</td>\n",
              "    </tr>\n",
              "  </tbody>\n",
              "</table>\n",
              "</div>\n",
              "    <div class=\"colab-df-buttons\">\n",
              "\n",
              "  <div class=\"colab-df-container\">\n",
              "    <button class=\"colab-df-convert\" onclick=\"convertToInteractive('df-f428f5ba-bcb5-4e3c-9378-a202708a77a5')\"\n",
              "            title=\"Convert this dataframe to an interactive table.\"\n",
              "            style=\"display:none;\">\n",
              "\n",
              "  <svg xmlns=\"http://www.w3.org/2000/svg\" height=\"24px\" viewBox=\"0 -960 960 960\">\n",
              "    <path d=\"M120-120v-720h720v720H120Zm60-500h600v-160H180v160Zm220 220h160v-160H400v160Zm0 220h160v-160H400v160ZM180-400h160v-160H180v160Zm440 0h160v-160H620v160ZM180-180h160v-160H180v160Zm440 0h160v-160H620v160Z\"/>\n",
              "  </svg>\n",
              "    </button>\n",
              "\n",
              "  <style>\n",
              "    .colab-df-container {\n",
              "      display:flex;\n",
              "      gap: 12px;\n",
              "    }\n",
              "\n",
              "    .colab-df-convert {\n",
              "      background-color: #E8F0FE;\n",
              "      border: none;\n",
              "      border-radius: 50%;\n",
              "      cursor: pointer;\n",
              "      display: none;\n",
              "      fill: #1967D2;\n",
              "      height: 32px;\n",
              "      padding: 0 0 0 0;\n",
              "      width: 32px;\n",
              "    }\n",
              "\n",
              "    .colab-df-convert:hover {\n",
              "      background-color: #E2EBFA;\n",
              "      box-shadow: 0px 1px 2px rgba(60, 64, 67, 0.3), 0px 1px 3px 1px rgba(60, 64, 67, 0.15);\n",
              "      fill: #174EA6;\n",
              "    }\n",
              "\n",
              "    .colab-df-buttons div {\n",
              "      margin-bottom: 4px;\n",
              "    }\n",
              "\n",
              "    [theme=dark] .colab-df-convert {\n",
              "      background-color: #3B4455;\n",
              "      fill: #D2E3FC;\n",
              "    }\n",
              "\n",
              "    [theme=dark] .colab-df-convert:hover {\n",
              "      background-color: #434B5C;\n",
              "      box-shadow: 0px 1px 3px 1px rgba(0, 0, 0, 0.15);\n",
              "      filter: drop-shadow(0px 1px 2px rgba(0, 0, 0, 0.3));\n",
              "      fill: #FFFFFF;\n",
              "    }\n",
              "  </style>\n",
              "\n",
              "    <script>\n",
              "      const buttonEl =\n",
              "        document.querySelector('#df-f428f5ba-bcb5-4e3c-9378-a202708a77a5 button.colab-df-convert');\n",
              "      buttonEl.style.display =\n",
              "        google.colab.kernel.accessAllowed ? 'block' : 'none';\n",
              "\n",
              "      async function convertToInteractive(key) {\n",
              "        const element = document.querySelector('#df-f428f5ba-bcb5-4e3c-9378-a202708a77a5');\n",
              "        const dataTable =\n",
              "          await google.colab.kernel.invokeFunction('convertToInteractive',\n",
              "                                                    [key], {});\n",
              "        if (!dataTable) return;\n",
              "\n",
              "        const docLinkHtml = 'Like what you see? Visit the ' +\n",
              "          '<a target=\"_blank\" href=https://colab.research.google.com/notebooks/data_table.ipynb>data table notebook</a>'\n",
              "          + ' to learn more about interactive tables.';\n",
              "        element.innerHTML = '';\n",
              "        dataTable['output_type'] = 'display_data';\n",
              "        await google.colab.output.renderOutput(dataTable, element);\n",
              "        const docLink = document.createElement('div');\n",
              "        docLink.innerHTML = docLinkHtml;\n",
              "        element.appendChild(docLink);\n",
              "      }\n",
              "    </script>\n",
              "  </div>\n",
              "\n",
              "\n",
              "<div id=\"df-47174bed-a006-433f-9b19-91162e15d919\">\n",
              "  <button class=\"colab-df-quickchart\" onclick=\"quickchart('df-47174bed-a006-433f-9b19-91162e15d919')\"\n",
              "            title=\"Suggest charts\"\n",
              "            style=\"display:none;\">\n",
              "\n",
              "<svg xmlns=\"http://www.w3.org/2000/svg\" height=\"24px\"viewBox=\"0 0 24 24\"\n",
              "     width=\"24px\">\n",
              "    <g>\n",
              "        <path d=\"M19 3H5c-1.1 0-2 .9-2 2v14c0 1.1.9 2 2 2h14c1.1 0 2-.9 2-2V5c0-1.1-.9-2-2-2zM9 17H7v-7h2v7zm4 0h-2V7h2v10zm4 0h-2v-4h2v4z\"/>\n",
              "    </g>\n",
              "</svg>\n",
              "  </button>\n",
              "\n",
              "<style>\n",
              "  .colab-df-quickchart {\n",
              "      --bg-color: #E8F0FE;\n",
              "      --fill-color: #1967D2;\n",
              "      --hover-bg-color: #E2EBFA;\n",
              "      --hover-fill-color: #174EA6;\n",
              "      --disabled-fill-color: #AAA;\n",
              "      --disabled-bg-color: #DDD;\n",
              "  }\n",
              "\n",
              "  [theme=dark] .colab-df-quickchart {\n",
              "      --bg-color: #3B4455;\n",
              "      --fill-color: #D2E3FC;\n",
              "      --hover-bg-color: #434B5C;\n",
              "      --hover-fill-color: #FFFFFF;\n",
              "      --disabled-bg-color: #3B4455;\n",
              "      --disabled-fill-color: #666;\n",
              "  }\n",
              "\n",
              "  .colab-df-quickchart {\n",
              "    background-color: var(--bg-color);\n",
              "    border: none;\n",
              "    border-radius: 50%;\n",
              "    cursor: pointer;\n",
              "    display: none;\n",
              "    fill: var(--fill-color);\n",
              "    height: 32px;\n",
              "    padding: 0;\n",
              "    width: 32px;\n",
              "  }\n",
              "\n",
              "  .colab-df-quickchart:hover {\n",
              "    background-color: var(--hover-bg-color);\n",
              "    box-shadow: 0 1px 2px rgba(60, 64, 67, 0.3), 0 1px 3px 1px rgba(60, 64, 67, 0.15);\n",
              "    fill: var(--button-hover-fill-color);\n",
              "  }\n",
              "\n",
              "  .colab-df-quickchart-complete:disabled,\n",
              "  .colab-df-quickchart-complete:disabled:hover {\n",
              "    background-color: var(--disabled-bg-color);\n",
              "    fill: var(--disabled-fill-color);\n",
              "    box-shadow: none;\n",
              "  }\n",
              "\n",
              "  .colab-df-spinner {\n",
              "    border: 2px solid var(--fill-color);\n",
              "    border-color: transparent;\n",
              "    border-bottom-color: var(--fill-color);\n",
              "    animation:\n",
              "      spin 1s steps(1) infinite;\n",
              "  }\n",
              "\n",
              "  @keyframes spin {\n",
              "    0% {\n",
              "      border-color: transparent;\n",
              "      border-bottom-color: var(--fill-color);\n",
              "      border-left-color: var(--fill-color);\n",
              "    }\n",
              "    20% {\n",
              "      border-color: transparent;\n",
              "      border-left-color: var(--fill-color);\n",
              "      border-top-color: var(--fill-color);\n",
              "    }\n",
              "    30% {\n",
              "      border-color: transparent;\n",
              "      border-left-color: var(--fill-color);\n",
              "      border-top-color: var(--fill-color);\n",
              "      border-right-color: var(--fill-color);\n",
              "    }\n",
              "    40% {\n",
              "      border-color: transparent;\n",
              "      border-right-color: var(--fill-color);\n",
              "      border-top-color: var(--fill-color);\n",
              "    }\n",
              "    60% {\n",
              "      border-color: transparent;\n",
              "      border-right-color: var(--fill-color);\n",
              "    }\n",
              "    80% {\n",
              "      border-color: transparent;\n",
              "      border-right-color: var(--fill-color);\n",
              "      border-bottom-color: var(--fill-color);\n",
              "    }\n",
              "    90% {\n",
              "      border-color: transparent;\n",
              "      border-bottom-color: var(--fill-color);\n",
              "    }\n",
              "  }\n",
              "</style>\n",
              "\n",
              "  <script>\n",
              "    async function quickchart(key) {\n",
              "      const quickchartButtonEl =\n",
              "        document.querySelector('#' + key + ' button');\n",
              "      quickchartButtonEl.disabled = true;  // To prevent multiple clicks.\n",
              "      quickchartButtonEl.classList.add('colab-df-spinner');\n",
              "      try {\n",
              "        const charts = await google.colab.kernel.invokeFunction(\n",
              "            'suggestCharts', [key], {});\n",
              "      } catch (error) {\n",
              "        console.error('Error during call to suggestCharts:', error);\n",
              "      }\n",
              "      quickchartButtonEl.classList.remove('colab-df-spinner');\n",
              "      quickchartButtonEl.classList.add('colab-df-quickchart-complete');\n",
              "    }\n",
              "    (() => {\n",
              "      let quickchartButtonEl =\n",
              "        document.querySelector('#df-47174bed-a006-433f-9b19-91162e15d919 button');\n",
              "      quickchartButtonEl.style.display =\n",
              "        google.colab.kernel.accessAllowed ? 'block' : 'none';\n",
              "    })();\n",
              "  </script>\n",
              "</div>\n",
              "\n",
              "    </div>\n",
              "  </div>\n"
            ],
            "application/vnd.google.colaboratory.intrinsic+json": {
              "type": "dataframe",
              "summary": "{\n  \"name\": \"result\",\n  \"rows\": 2,\n  \"fields\": [\n    {\n      \"column\": 0,\n      \"properties\": {\n        \"dtype\": \"number\",\n        \"std\": 7.215383540192992,\n        \"min\": -10.29181296610726,\n        \"max\": -0.08771970584273528,\n        \"num_unique_values\": 2,\n        \"samples\": [\n          -0.08771970584273528,\n          -10.29181296610726\n        ],\n        \"semantic_type\": \"\",\n        \"description\": \"\"\n      }\n    },\n    {\n      \"column\": 1,\n      \"properties\": {\n        \"dtype\": \"number\",\n        \"std\": 7.161607903761557,\n        \"min\": -10.167009185075345,\n        \"max\": -0.038966159177399845,\n        \"num_unique_values\": 2,\n        \"samples\": [\n          -0.038966159177399845,\n          -10.167009185075345\n        ],\n        \"semantic_type\": \"\",\n        \"description\": \"\"\n      }\n    }\n  ]\n}"
            }
          },
          "metadata": {},
          "execution_count": 28
        }
      ]
    },
    {
      "cell_type": "markdown",
      "metadata": {
        "id": "cr2Ha215l4QK"
      },
      "source": [
        "Let's begin with a simple prediction task. We will discover how well can we explain the price of these products using their textual descriptions.\n",
        "\n",
        "**Problem 2**:\n",
        " 1. Build a linear model that explains the price of each product using it's text embedding vector as the explanatory variables.\n",
        "\n",
        " 2. Build a two-layer perceptron neural network that explains the price of each product using the text embedding vector as input (see example code below).\n",
        "<!-- 3. Now, instead of taking the text embeddings as fixed, we allow the it to ``fine tune.'' Construct a neural network by combining the (pre-loaded) BERT network -->\n",
        "\n",
        " 3. Report the $R^2$ of both approaches."
      ]
    },
    {
      "cell_type": "code",
      "source": [
        "from sklearn.model_selection import train_test_split\n",
        "\n",
        "main_ind, test_ind = train_test_split(np.arange(data.shape[0]), test_size=.2, shuffle=True, random_state=124)\n",
        "main = data.iloc[main_ind]\n",
        "\n",
        "train_ind, val_ind = train_test_split(np.arange(main.shape[0]), test_size=0.25, random_state=124) # 0.25 x 0.8 = 0.2\n",
        "\n",
        "train = main.iloc[train_ind]\n",
        "val = main.iloc[val_ind]\n",
        "holdout = data.iloc[test_ind]\n",
        "\n",
        "tensors = tokenizer(\n",
        "    list(train[\"text\"]),\n",
        "    padding=True,\n",
        "    truncation=True,\n",
        "    max_length=128,\n",
        "    return_tensors=\"tf\")\n",
        "\n",
        "val_tensors = tokenizer(\n",
        "    list(val[\"text\"]),\n",
        "    padding=True,\n",
        "    truncation=True,\n",
        "    max_length=128,\n",
        "    return_tensors=\"tf\")\n",
        "\n",
        "# Preprocess holdout sample\n",
        "tensors_holdout = tokenizer(\n",
        "    list(holdout[\"text\"]),\n",
        "    padding=True,\n",
        "    truncation=True,\n",
        "    max_length=128,\n",
        "    return_tensors=\"tf\")"
      ],
      "metadata": {
        "id": "pGt-G-qpciGd"
      },
      "execution_count": null,
      "outputs": []
    },
    {
      "cell_type": "code",
      "source": [
        "ln_p = train[\"ln_p\"]\n",
        "ln_q = train[\"ln_q\"]\n",
        "val_ln_p = val[\"ln_p\"]\n",
        "val_ln_q = val[\"ln_q\"]"
      ],
      "metadata": {
        "id": "XQ4DMJQ0drZm"
      },
      "execution_count": null,
      "outputs": []
    },
    {
      "cell_type": "markdown",
      "source": [
        "# Using BERT as Feature Extractor"
      ],
      "metadata": {
        "id": "gPYEMuKZ7ylj"
      }
    },
    {
      "cell_type": "code",
      "source": [
        "from tensorflow.keras import Model, Input\n",
        "from tensorflow.keras.layers import Dense, Dropout, Concatenate\n",
        "import tensorflow_addons as tfa\n",
        "from tensorflow.keras import regularizers\n",
        "\n",
        "input_ids = Input(shape=(128,), dtype=tf.int32)\n",
        "token_type_ids = Input(shape=(128,), dtype=tf.int32)\n",
        "attention_mask = Input(shape=(128,), dtype=tf.int32)\n",
        "\n",
        "Z = bert(input_ids, token_type_ids, attention_mask)[1]\n",
        "\n",
        "embedding_model = Model([input_ids, token_type_ids, attention_mask], Z)\n",
        "\n",
        "embeddings = embedding_model.predict([tensors['input_ids'], tensors['token_type_ids'], tensors['attention_mask']])"
      ],
      "metadata": {
        "colab": {
          "base_uri": "https://localhost:8080/"
        },
        "id": "AJu0FlEcu6Zj",
        "outputId": "379c6cd1-84f1-478e-ae68-11254171ecec"
      },
      "execution_count": null,
      "outputs": [
        {
          "output_type": "stream",
          "name": "stdout",
          "text": [
            "151/151 [==============================] - 9s 39ms/step\n"
          ]
        }
      ]
    },
    {
      "cell_type": "code",
      "source": [
        "from sklearn.linear_model import LassoCV\n",
        "from sklearn.model_selection import KFold\n",
        "from sklearn.preprocessing import StandardScaler\n",
        "from sklearn.pipeline import make_pipeline\n",
        "\n",
        "lcv = make_pipeline(StandardScaler(), LassoCV(cv=KFold(n_splits=5, shuffle=True, random_state=123), random_state=123))\n",
        "lcv.fit(embeddings, ln_p)"
      ],
      "metadata": {
        "colab": {
          "base_uri": "https://localhost:8080/",
          "height": 126
        },
        "id": "-SSqzkf3vx8I",
        "outputId": "bff5c17a-a04b-4a7d-8f48-13fda68007a7"
      },
      "execution_count": null,
      "outputs": [
        {
          "output_type": "execute_result",
          "data": {
            "text/plain": [
              "Pipeline(steps=[('standardscaler', StandardScaler()),\n",
              "                ('lassocv',\n",
              "                 LassoCV(cv=KFold(n_splits=5, random_state=123, shuffle=True),\n",
              "                         random_state=123))])"
            ],
            "text/html": [
              "<style>#sk-container-id-1 {color: black;background-color: white;}#sk-container-id-1 pre{padding: 0;}#sk-container-id-1 div.sk-toggleable {background-color: white;}#sk-container-id-1 label.sk-toggleable__label {cursor: pointer;display: block;width: 100%;margin-bottom: 0;padding: 0.3em;box-sizing: border-box;text-align: center;}#sk-container-id-1 label.sk-toggleable__label-arrow:before {content: \"▸\";float: left;margin-right: 0.25em;color: #696969;}#sk-container-id-1 label.sk-toggleable__label-arrow:hover:before {color: black;}#sk-container-id-1 div.sk-estimator:hover label.sk-toggleable__label-arrow:before {color: black;}#sk-container-id-1 div.sk-toggleable__content {max-height: 0;max-width: 0;overflow: hidden;text-align: left;background-color: #f0f8ff;}#sk-container-id-1 div.sk-toggleable__content pre {margin: 0.2em;color: black;border-radius: 0.25em;background-color: #f0f8ff;}#sk-container-id-1 input.sk-toggleable__control:checked~div.sk-toggleable__content {max-height: 200px;max-width: 100%;overflow: auto;}#sk-container-id-1 input.sk-toggleable__control:checked~label.sk-toggleable__label-arrow:before {content: \"▾\";}#sk-container-id-1 div.sk-estimator input.sk-toggleable__control:checked~label.sk-toggleable__label {background-color: #d4ebff;}#sk-container-id-1 div.sk-label input.sk-toggleable__control:checked~label.sk-toggleable__label {background-color: #d4ebff;}#sk-container-id-1 input.sk-hidden--visually {border: 0;clip: rect(1px 1px 1px 1px);clip: rect(1px, 1px, 1px, 1px);height: 1px;margin: -1px;overflow: hidden;padding: 0;position: absolute;width: 1px;}#sk-container-id-1 div.sk-estimator {font-family: monospace;background-color: #f0f8ff;border: 1px dotted black;border-radius: 0.25em;box-sizing: border-box;margin-bottom: 0.5em;}#sk-container-id-1 div.sk-estimator:hover {background-color: #d4ebff;}#sk-container-id-1 div.sk-parallel-item::after {content: \"\";width: 100%;border-bottom: 1px solid gray;flex-grow: 1;}#sk-container-id-1 div.sk-label:hover label.sk-toggleable__label {background-color: #d4ebff;}#sk-container-id-1 div.sk-serial::before {content: \"\";position: absolute;border-left: 1px solid gray;box-sizing: border-box;top: 0;bottom: 0;left: 50%;z-index: 0;}#sk-container-id-1 div.sk-serial {display: flex;flex-direction: column;align-items: center;background-color: white;padding-right: 0.2em;padding-left: 0.2em;position: relative;}#sk-container-id-1 div.sk-item {position: relative;z-index: 1;}#sk-container-id-1 div.sk-parallel {display: flex;align-items: stretch;justify-content: center;background-color: white;position: relative;}#sk-container-id-1 div.sk-item::before, #sk-container-id-1 div.sk-parallel-item::before {content: \"\";position: absolute;border-left: 1px solid gray;box-sizing: border-box;top: 0;bottom: 0;left: 50%;z-index: -1;}#sk-container-id-1 div.sk-parallel-item {display: flex;flex-direction: column;z-index: 1;position: relative;background-color: white;}#sk-container-id-1 div.sk-parallel-item:first-child::after {align-self: flex-end;width: 50%;}#sk-container-id-1 div.sk-parallel-item:last-child::after {align-self: flex-start;width: 50%;}#sk-container-id-1 div.sk-parallel-item:only-child::after {width: 0;}#sk-container-id-1 div.sk-dashed-wrapped {border: 1px dashed gray;margin: 0 0.4em 0.5em 0.4em;box-sizing: border-box;padding-bottom: 0.4em;background-color: white;}#sk-container-id-1 div.sk-label label {font-family: monospace;font-weight: bold;display: inline-block;line-height: 1.2em;}#sk-container-id-1 div.sk-label-container {text-align: center;}#sk-container-id-1 div.sk-container {/* jupyter's `normalize.less` sets `[hidden] { display: none; }` but bootstrap.min.css set `[hidden] { display: none !important; }` so we also need the `!important` here to be able to override the default hidden behavior on the sphinx rendered scikit-learn.org. See: https://github.com/scikit-learn/scikit-learn/issues/21755 */display: inline-block !important;position: relative;}#sk-container-id-1 div.sk-text-repr-fallback {display: none;}</style><div id=\"sk-container-id-1\" class=\"sk-top-container\"><div class=\"sk-text-repr-fallback\"><pre>Pipeline(steps=[(&#x27;standardscaler&#x27;, StandardScaler()),\n",
              "                (&#x27;lassocv&#x27;,\n",
              "                 LassoCV(cv=KFold(n_splits=5, random_state=123, shuffle=True),\n",
              "                         random_state=123))])</pre><b>In a Jupyter environment, please rerun this cell to show the HTML representation or trust the notebook. <br />On GitHub, the HTML representation is unable to render, please try loading this page with nbviewer.org.</b></div><div class=\"sk-container\" hidden><div class=\"sk-item sk-dashed-wrapped\"><div class=\"sk-label-container\"><div class=\"sk-label sk-toggleable\"><input class=\"sk-toggleable__control sk-hidden--visually\" id=\"sk-estimator-id-1\" type=\"checkbox\" ><label for=\"sk-estimator-id-1\" class=\"sk-toggleable__label sk-toggleable__label-arrow\">Pipeline</label><div class=\"sk-toggleable__content\"><pre>Pipeline(steps=[(&#x27;standardscaler&#x27;, StandardScaler()),\n",
              "                (&#x27;lassocv&#x27;,\n",
              "                 LassoCV(cv=KFold(n_splits=5, random_state=123, shuffle=True),\n",
              "                         random_state=123))])</pre></div></div></div><div class=\"sk-serial\"><div class=\"sk-item\"><div class=\"sk-estimator sk-toggleable\"><input class=\"sk-toggleable__control sk-hidden--visually\" id=\"sk-estimator-id-2\" type=\"checkbox\" ><label for=\"sk-estimator-id-2\" class=\"sk-toggleable__label sk-toggleable__label-arrow\">StandardScaler</label><div class=\"sk-toggleable__content\"><pre>StandardScaler()</pre></div></div></div><div class=\"sk-item\"><div class=\"sk-estimator sk-toggleable\"><input class=\"sk-toggleable__control sk-hidden--visually\" id=\"sk-estimator-id-3\" type=\"checkbox\" ><label for=\"sk-estimator-id-3\" class=\"sk-toggleable__label sk-toggleable__label-arrow\">LassoCV</label><div class=\"sk-toggleable__content\"><pre>LassoCV(cv=KFold(n_splits=5, random_state=123, shuffle=True), random_state=123)</pre></div></div></div></div></div></div></div>"
            ]
          },
          "metadata": {},
          "execution_count": 20
        }
      ]
    },
    {
      "cell_type": "code",
      "source": [
        "embeddings_val = embedding_model.predict([val_tensors['input_ids'], val_tensors['token_type_ids'], val_tensors['attention_mask']])"
      ],
      "metadata": {
        "colab": {
          "base_uri": "https://localhost:8080/"
        },
        "id": "hLEZ1JL2weU9",
        "outputId": "bc89625f-e957-444f-f463-788cc7821c76"
      },
      "execution_count": null,
      "outputs": [
        {
          "output_type": "stream",
          "name": "stdout",
          "text": [
            "51/51 [==============================] - 2s 39ms/step\n"
          ]
        }
      ]
    },
    {
      "cell_type": "code",
      "source": [
        "get_r2(val_ln_p, lcv.predict(embeddings_val))"
      ],
      "metadata": {
        "colab": {
          "base_uri": "https://localhost:8080/"
        },
        "id": "4Aez3Il1wp4x",
        "outputId": "92499801-c0a3-4512-d861-028c2913ec4f"
      },
      "execution_count": null,
      "outputs": [
        {
          "output_type": "stream",
          "name": "stdout",
          "text": [
            "RSS: 1250.351476330944, TSS + MEAN^2: 10640.194498799881, TSS: 2035.8884883484386, R^2: 0.38584481248024594\n"
          ]
        }
      ]
    },
    {
      "cell_type": "code",
      "source": [
        "embeddings_holdout = embedding_model.predict([tensors_holdout['input_ids'], tensors_holdout['token_type_ids'], tensors_holdout['attention_mask']])"
      ],
      "metadata": {
        "colab": {
          "base_uri": "https://localhost:8080/"
        },
        "id": "u1aRxiWsBO-V",
        "outputId": "91e1a1f5-7408-4cf4-ba99-8ab160ef8632"
      },
      "execution_count": null,
      "outputs": [
        {
          "output_type": "stream",
          "name": "stdout",
          "text": [
            "51/51 [==============================] - 2s 38ms/step\n"
          ]
        }
      ]
    },
    {
      "cell_type": "code",
      "source": [
        "get_r2(holdout['ln_p'], lcv.predict(embeddings_holdout))"
      ],
      "metadata": {
        "colab": {
          "base_uri": "https://localhost:8080/"
        },
        "id": "899QoDe0BVId",
        "outputId": "13cb1a88-19c9-4252-8041-2e41a8c8ee40"
      },
      "execution_count": null,
      "outputs": [
        {
          "output_type": "stream",
          "name": "stdout",
          "text": [
            "RSS: 1260.4281590904234, TSS + MEAN^2: 10522.713393336924, TSS: 2057.4150271276617, R^2: 0.38737292064494366\n"
          ]
        }
      ]
    },
    {
      "cell_type": "code",
      "source": [
        "ln_p_hat_holdout = lcv.predict(embeddings_holdout)"
      ],
      "metadata": {
        "id": "RwzWK34wBY9I"
      },
      "execution_count": null,
      "outputs": []
    },
    {
      "cell_type": "markdown",
      "source": [
        "# Linear Probing: Training Only Final Layer after BERT"
      ],
      "metadata": {
        "id": "mOc1_C5p7ta7"
      }
    },
    {
      "cell_type": "code",
      "execution_count": null,
      "metadata": {
        "colab": {
          "base_uri": "https://localhost:8080/"
        },
        "id": "Ck1xqRIrmx8I",
        "outputId": "9cf08c8d-de4c-476b-866b-15c09f412428"
      },
      "outputs": [
        {
          "output_type": "stream",
          "name": "stdout",
          "text": [
            "Model: \"model_1\"\n",
            "__________________________________________________________________________________________________\n",
            " Layer (type)                   Output Shape         Param #     Connected to                     \n",
            "==================================================================================================\n",
            " input_4 (InputLayer)           [(None, 128)]        0           []                               \n",
            "                                                                                                  \n",
            " input_5 (InputLayer)           [(None, 128)]        0           []                               \n",
            "                                                                                                  \n",
            " input_6 (InputLayer)           [(None, 128)]        0           []                               \n",
            "                                                                                                  \n",
            " tf_bert_model (TFBertModel)    TFBaseModelOutputWi  109482240   ['input_4[0][0]',                \n",
            "                                thPoolingAndCrossAt               'input_5[0][0]',                \n",
            "                                tentions(last_hidde               'input_6[0][0]']                \n",
            "                                n_state=(None, 128,                                               \n",
            "                                 768),                                                            \n",
            "                                 pooler_output=(Non                                               \n",
            "                                e, 768),                                                          \n",
            "                                 past_key_values=No                                               \n",
            "                                ne, hidden_states=N                                               \n",
            "                                one, attentions=Non                                               \n",
            "                                e, cross_attentions                                               \n",
            "                                =None)                                                            \n",
            "                                                                                                  \n",
            " dense (Dense)                  (None, 1)            769         ['tf_bert_model[1][1]']          \n",
            "                                                                                                  \n",
            "==================================================================================================\n",
            "Total params: 109,483,009\n",
            "Trainable params: 769\n",
            "Non-trainable params: 109,482,240\n",
            "__________________________________________________________________________________________________\n"
          ]
        }
      ],
      "source": [
        "### Now let's prepare our model\n",
        "\n",
        "from tensorflow.keras import Model, Input\n",
        "from tensorflow.keras.layers import Dense, Dropout, Concatenate\n",
        "import tensorflow_addons as tfa\n",
        "from tensorflow.keras import regularizers\n",
        "\n",
        "tf.keras.utils.set_random_seed(123)\n",
        "\n",
        "input_ids = Input(shape=(128,), dtype=tf.int32)\n",
        "token_type_ids = Input(shape=(128,), dtype=tf.int32)\n",
        "attention_mask = Input(shape=(128,), dtype=tf.int32)\n",
        "\n",
        "# # First we compute the text embedding\n",
        "Z = bert(input_ids, token_type_ids, attention_mask)\n",
        "\n",
        "for layer in bert.layers:\n",
        "    layer.trainable=False\n",
        "    for w in layer.weights: w._trainable=False\n",
        "\n",
        "# # We want the \"pooled / summary\" embedding, not individual word embeddings\n",
        "Z = Z[1]\n",
        "\n",
        "# # Then we do a regular regression\n",
        "# Z = Dropout(0.2)(Z)\n",
        "ln_p_hat = Dense(1, activation='linear',\n",
        "                 kernel_regularizer=regularizers.L2(1e-3))(Z)\n",
        "\n",
        "PricePredictionNetwork = Model([\n",
        "                                input_ids,\n",
        "                                token_type_ids,\n",
        "                                attention_mask,\n",
        "                                ], ln_p_hat)\n",
        "PricePredictionNetwork.compile(\n",
        "    optimizer=tf.keras.optimizers.Adam(learning_rate=1e-3),\n",
        "    loss=tf.keras.losses.MeanSquaredError(),\n",
        "    metrics=tfa.metrics.RSquare(),\n",
        ")\n",
        "PricePredictionNetwork.summary()"
      ]
    },
    {
      "cell_type": "code",
      "source": [
        "from livelossplot import PlotLossesKeras\n",
        "\n",
        "tf.keras.utils.set_random_seed(123)\n",
        "earlystopping = tf.keras.callbacks.EarlyStopping(monitor='val_loss', patience=5, restore_best_weights=True)\n",
        "modelcheckpoint = tf.keras.callbacks.ModelCheckpoint(\"/content/gdrive/MyDrive/pweights.hdf5\", monitor='val_loss', save_best_only=True, save_weights_only=True)\n",
        "\n",
        "PricePredictionNetwork.fit(\n",
        "                x= [tensors['input_ids'],\n",
        "                    tensors['token_type_ids'],\n",
        "                    tensors['attention_mask'],],\n",
        "                y=ln_p,\n",
        "                validation_data = (\n",
        "                    [val_tensors['input_ids'],\n",
        "                     val_tensors['token_type_ids'],\n",
        "                     val_tensors['attention_mask']], val_ln_p\n",
        "                ),\n",
        "                epochs=5,\n",
        "                callbacks = [earlystopping, modelcheckpoint,\n",
        "                             PlotLossesKeras(groups = {'train_loss': ['loss'], 'train_rsq':['r_square'], 'val_loss': ['val_loss'], 'val_rsq': ['val_r_square']})],\n",
        "                batch_size=16,\n",
        "                shuffle=True)"
      ],
      "metadata": {
        "colab": {
          "base_uri": "https://localhost:8080/",
          "height": 1000
        },
        "id": "XhTREb3NcZhH",
        "outputId": "308ed426-c824-4584-8811-f92ed3db3e99"
      },
      "execution_count": null,
      "outputs": [
        {
          "output_type": "display_data",
          "data": {
            "text/plain": [
              "<Figure size 864x864 with 4 Axes>"
            ],
            "image/png": "[encoded data removed]"
          },
          "metadata": {
            "needs_background": "light"
          }
        },
        {
          "output_type": "stream",
          "name": "stdout",
          "text": [
            "train_loss\n",
            "\ttraining         \t (min:    1.148, max:    1.472, cur:    1.148)\n",
            "train_rsq\n",
            "\ttraining         \t (min:   -0.170, max:    0.089, cur:    0.089)\n",
            "val_loss\n",
            "\tvalidation       \t (min:    1.085, max:    1.280, cur:    1.085)\n",
            "val_rsq\n",
            "\tvalidation       \t (min:   -0.005, max:    0.149, cur:    0.149)\n",
            "\b\b\b\b\b\b\b\b\b\b\b\b\b\b\b\b\b\b\b\b\b\b\b\b\b\b\b\b\b\b\b\b\b\b\b\b\b\b\b\b\b\b\b\b\b\b\b\b\b\b\b\b\b\b\b\b\b\b\b\b\b\b\b\b\b\b\b\b\b\b\b\b\b\b\b\b\b\b\b\b\b\b\b\b\r301/301 [==============================] - 14s 48ms/step - loss: 1.1483 - r_square: 0.0887 - val_loss: 1.0853 - val_r_square: 0.1487\n"
          ]
        },
        {
          "output_type": "execute_result",
          "data": {
            "text/plain": [
              "<keras.callbacks.History at 0x7f09cd6ebcd0>"
            ]
          },
          "metadata": {},
          "execution_count": 27
        }
      ]
    },
    {
      "cell_type": "markdown",
      "source": [
        "# Fine Tuning starting from the Linear Probing Trained Weights\n",
        "\n",
        "Now we train the whole network, initializing the weights based on the result of the linear probing phase in the previous section."
      ],
      "metadata": {
        "id": "MyFxR5GC8C3K"
      }
    },
    {
      "cell_type": "code",
      "source": [
        "### Now let's prepare our model\n",
        "\n",
        "from tensorflow.keras import Model, Input\n",
        "from tensorflow.keras.layers import Dense, Dropout, Concatenate\n",
        "import tensorflow_addons as tfa\n",
        "from tensorflow.keras import regularizers\n",
        "\n",
        "tf.keras.utils.set_random_seed(123)\n",
        "\n",
        "input_ids = Input(shape=(128,), dtype=tf.int32)\n",
        "token_type_ids = Input(shape=(128,), dtype=tf.int32)\n",
        "attention_mask = Input(shape=(128,), dtype=tf.int32)\n",
        "\n",
        "# # First we compute the text embedding\n",
        "Z = bert(input_ids, token_type_ids, attention_mask)\n",
        "\n",
        "for layer in bert.layers:\n",
        "    layer.trainable=True\n",
        "    for w in layer.weights: w._trainable=True\n",
        "\n",
        "# # We want the \"pooled / summary\" embedding, not individual word embeddings\n",
        "Z = Z[1]\n",
        "\n",
        "# # Then we do a regularized linear regression\n",
        "ln_p_hat = Dense(1, activation='linear',\n",
        "                 kernel_regularizer=regularizers.L2(1e-3))(Z)\n",
        "\n",
        "PricePredictionNetwork = Model([\n",
        "                                input_ids,\n",
        "                                token_type_ids,\n",
        "                                attention_mask,\n",
        "                                ], ln_p_hat)\n",
        "PricePredictionNetwork.compile(\n",
        "    optimizer=tf.keras.optimizers.Adam(learning_rate=1e-5),\n",
        "    loss=tf.keras.losses.MeanSquaredError(),\n",
        "    metrics=tfa.metrics.RSquare(),\n",
        ")\n",
        "PricePredictionNetwork.summary()"
      ],
      "metadata": {
        "colab": {
          "base_uri": "https://localhost:8080/"
        },
        "id": "NzWCkTY87luH",
        "outputId": "3054ca94-6704-4e47-c55e-6039c97977da"
      },
      "execution_count": null,
      "outputs": [
        {
          "output_type": "stream",
          "name": "stdout",
          "text": [
            "Model: \"model_2\"\n",
            "__________________________________________________________________________________________________\n",
            " Layer (type)                   Output Shape         Param #     Connected to                     \n",
            "==================================================================================================\n",
            " input_7 (InputLayer)           [(None, 128)]        0           []                               \n",
            "                                                                                                  \n",
            " input_8 (InputLayer)           [(None, 128)]        0           []                               \n",
            "                                                                                                  \n",
            " input_9 (InputLayer)           [(None, 128)]        0           []                               \n",
            "                                                                                                  \n",
            " tf_bert_model (TFBertModel)    TFBaseModelOutputWi  109482240   ['input_7[0][0]',                \n",
            "                                thPoolingAndCrossAt               'input_8[0][0]',                \n",
            "                                tentions(last_hidde               'input_9[0][0]']                \n",
            "                                n_state=(None, 128,                                               \n",
            "                                 768),                                                            \n",
            "                                 pooler_output=(Non                                               \n",
            "                                e, 768),                                                          \n",
            "                                 past_key_values=No                                               \n",
            "                                ne, hidden_states=N                                               \n",
            "                                one, attentions=Non                                               \n",
            "                                e, cross_attentions                                               \n",
            "                                =None)                                                            \n",
            "                                                                                                  \n",
            " dense_1 (Dense)                (None, 1)            769         ['tf_bert_model[2][1]']          \n",
            "                                                                                                  \n",
            "==================================================================================================\n",
            "Total params: 109,483,009\n",
            "Trainable params: 109,483,009\n",
            "Non-trainable params: 0\n",
            "__________________________________________________________________________________________________\n"
          ]
        }
      ]
    },
    {
      "cell_type": "code",
      "source": [
        "PricePredictionNetwork.load_weights(\"/content/gdrive/MyDrive/pweights.hdf5\")"
      ],
      "metadata": {
        "id": "PWauCl0T7nUo"
      },
      "execution_count": null,
      "outputs": []
    },
    {
      "cell_type": "code",
      "source": [
        "from livelossplot import PlotLossesKeras\n",
        "\n",
        "tf.keras.utils.set_random_seed(123)\n",
        "\n",
        "earlystopping = tf.keras.callbacks.EarlyStopping(monitor='val_loss', patience=5, restore_best_weights=True)\n",
        "modelcheckpoint = tf.keras.callbacks.ModelCheckpoint(\"/content/gdrive/MyDrive/pweights.hdf5\", monitor='val_loss', save_best_only=True, save_weights_only=True)\n",
        "\n",
        "PricePredictionNetwork.fit(\n",
        "                x= [tensors['input_ids'],\n",
        "                    tensors['token_type_ids'],\n",
        "                    tensors['attention_mask'],],\n",
        "                y=ln_p,\n",
        "                validation_data = (\n",
        "                    [val_tensors['input_ids'],\n",
        "                     val_tensors['token_type_ids'],\n",
        "                     val_tensors['attention_mask']], val_ln_p\n",
        "                ),\n",
        "                epochs=10,\n",
        "                callbacks = [earlystopping, modelcheckpoint,\n",
        "                             PlotLossesKeras(groups = {'train_loss': ['loss'], 'train_rsq':['r_square'], 'val_loss': ['val_loss'], 'val_rsq': ['val_r_square']})],\n",
        "                batch_size=16,\n",
        "                shuffle=True)"
      ],
      "metadata": {
        "colab": {
          "base_uri": "https://localhost:8080/",
          "height": 1000
        },
        "id": "iDSBZWAe8nhE",
        "outputId": "f31dd37e-5ddd-48dc-e039-3a41c8633ba6"
      },
      "execution_count": null,
      "outputs": [
        {
          "output_type": "display_data",
          "data": {
            "text/plain": [
              "<Figure size 864x864 with 4 Axes>"
            ],
            "image/png": "[encoded data removed]"
          },
          "metadata": {
            "needs_background": "light"
          }
        },
        {
          "output_type": "stream",
          "name": "stdout",
          "text": [
            "train_loss\n",
            "\ttraining         \t (min:    0.081, max:    0.812, cur:    0.081)\n",
            "train_rsq\n",
            "\ttraining         \t (min:    0.356, max:    0.938, cur:    0.938)\n",
            "val_loss\n",
            "\tvalidation       \t (min:    0.506, max:    0.652, cur:    0.531)\n",
            "val_rsq\n",
            "\tvalidation       \t (min:    0.489, max:    0.605, cur:    0.584)\n",
            "\b\b\b\b\b\b\b\b\b\b\b\b\b\b\b\b\b\b\b\b\b\b\b\b\b\b\b\b\b\b\b\b\b\b\b\b\b\b\b\b\b\b\b\b\b\b\b\b\b\b\b\b\b\b\b\b\b\b\b\b\b\b\b\b\b\b\b\b\b\b\b\b\b\b\b\b\b\b\b\b\b\b\b\b\r301/301 [==============================] - 25s 83ms/step - loss: 0.0813 - r_square: 0.9376 - val_loss: 0.5315 - val_r_square: 0.5842\n"
          ]
        },
        {
          "output_type": "execute_result",
          "data": {
            "text/plain": [
              "<keras.callbacks.History at 0x7f09cdd4b6d0>"
            ]
          },
          "metadata": {},
          "execution_count": 30
        }
      ]
    },
    {
      "cell_type": "code",
      "source": [
        "PricePredictionNetwork.load_weights(\"/content/gdrive/MyDrive/pweights.hdf5\")"
      ],
      "metadata": {
        "id": "wchpbXoqBAJu"
      },
      "execution_count": null,
      "outputs": []
    },
    {
      "cell_type": "code",
      "source": [
        "# Compute predictions\n",
        "ln_p_hat_holdout = PricePredictionNetwork.predict([\n",
        "                                                   tensors_holdout['input_ids'],\n",
        "                                                   tensors_holdout['token_type_ids'],\n",
        "                                                   tensors_holdout['attention_mask'],\n",
        "                                                   ])"
      ],
      "metadata": {
        "colab": {
          "base_uri": "https://localhost:8080/"
        },
        "id": "jpUmDHYfkJEZ",
        "outputId": "50a6effb-c3a6-445c-a273-a437d48cb848"
      },
      "execution_count": null,
      "outputs": [
        {
          "output_type": "stream",
          "name": "stdout",
          "text": [
            "51/51 [==============================] - 5s 40ms/step\n"
          ]
        }
      ]
    },
    {
      "cell_type": "code",
      "source": [
        "print('Neural Net R^2, Price Prediction:')\n",
        "get_r2(holdout['ln_p'], ln_p_hat_holdout)"
      ],
      "metadata": {
        "colab": {
          "base_uri": "https://localhost:8080/"
        },
        "id": "g_XK81hpkQMN",
        "outputId": "937380d0-a0e2-40a1-d01f-23491be51e80"
      },
      "execution_count": null,
      "outputs": [
        {
          "output_type": "stream",
          "name": "stdout",
          "text": [
            "Neural Net R^2, Price Prediction:\n",
            "RSS: 789.9447435913809, TSS + MEAN^2: 10522.713393336924, TSS: 2057.4150271276617, R^2: 0.6160498814406856\n"
          ]
        }
      ]
    },
    {
      "cell_type": "code",
      "source": [
        "import matplotlib.pyplot as plt\n",
        "plt.hist(ln_p_hat_holdout)\n",
        "plt.show()"
      ],
      "metadata": {
        "colab": {
          "base_uri": "https://localhost:8080/",
          "height": 265
        },
        "id": "GR4QP4DJPQk0",
        "outputId": "53e11e79-6b7f-40f9-a735-c61958521781"
      },
      "execution_count": null,
      "outputs": [
        {
          "output_type": "display_data",
          "data": {
            "text/plain": [
              "<Figure size 432x288 with 1 Axes>"
            ],
            "image/png": "[encoded data removed]"
          },
          "metadata": {
            "needs_background": "light"
          }
        }
      ]
    },
    {
      "cell_type": "markdown",
      "metadata": {
        "id": "bafy9ftcoBed"
      },
      "source": [
        "Now, let's go one step further and construct a DML estimator of the average price elasticity. In particular, we will model market share $q_i$ as\n",
        "$$\\ln q_i = \\alpha + \\beta \\ln p_i + \\psi(d_i) + \\epsilon_i,$$ where $d_i$ denotes the description of product $i$ and $\\psi$ is the composition of text embedding and a linear layer.\n",
        "\n",
        "**Problem 3**:\n",
        " 1. Split the sample in two, and predict $\\ln p_i$ and $\\ln q_i$ using $d_i$ with a two-layer perceptron as before, using the main sample.\n",
        " 2. In the holdout sample, perform an OLS regression of the residual of $\\ln q_i$ on the residual of $\\ln p_i$ (using the previous problem's model).\n",
        " 3. What do you find?"
      ]
    },
    {
      "cell_type": "code",
      "execution_count": null,
      "metadata": {
        "colab": {
          "base_uri": "https://localhost:8080/"
        },
        "id": "Qiteu6FaoctV",
        "outputId": "281c71bc-9174-430d-9074-4d409f85f381"
      },
      "outputs": [
        {
          "output_type": "stream",
          "name": "stderr",
          "text": [
            "Some layers from the model checkpoint at bert-base-uncased were not used when initializing TFBertModel: ['mlm___cls', 'nsp___cls']\n",
            "- This IS expected if you are initializing TFBertModel from the checkpoint of a model trained on another task or with another architecture (e.g. initializing a BertForSequenceClassification model from a BertForPreTraining model).\n",
            "- This IS NOT expected if you are initializing TFBertModel from the checkpoint of a model that you expect to be exactly identical (initializing a BertForSequenceClassification model from a BertForSequenceClassification model).\n",
            "All the layers of TFBertModel were initialized from the model checkpoint at bert-base-uncased.\n",
            "If your task is similar to the task the model of the checkpoint was trained on, you can already use TFBertModel for predictions without further training.\n"
          ]
        },
        {
          "output_type": "stream",
          "name": "stdout",
          "text": [
            "Model: \"model_3\"\n",
            "__________________________________________________________________________________________________\n",
            " Layer (type)                   Output Shape         Param #     Connected to                     \n",
            "==================================================================================================\n",
            " input_10 (InputLayer)          [(None, 128)]        0           []                               \n",
            "                                                                                                  \n",
            " input_11 (InputLayer)          [(None, 128)]        0           []                               \n",
            "                                                                                                  \n",
            " input_12 (InputLayer)          [(None, 128)]        0           []                               \n",
            "                                                                                                  \n",
            " tf_bert_model_1 (TFBertModel)  TFBaseModelOutputWi  109482240   ['input_10[0][0]',               \n",
            "                                thPoolingAndCrossAt               'input_11[0][0]',               \n",
            "                                tentions(last_hidde               'input_12[0][0]']               \n",
            "                                n_state=(None, 128,                                               \n",
            "                                 768),                                                            \n",
            "                                 pooler_output=(Non                                               \n",
            "                                e, 768),                                                          \n",
            "                                 past_key_values=No                                               \n",
            "                                ne, hidden_states=N                                               \n",
            "                                one, attentions=Non                                               \n",
            "                                e, cross_attentions                                               \n",
            "                                =None)                                                            \n",
            "                                                                                                  \n",
            " dense_2 (Dense)                (None, 1)            769         ['tf_bert_model_1[0][1]']        \n",
            "                                                                                                  \n",
            "==================================================================================================\n",
            "Total params: 109,483,009\n",
            "Trainable params: 109,483,009\n",
            "Non-trainable params: 0\n",
            "__________________________________________________________________________________________________\n"
          ]
        }
      ],
      "source": [
        "## Build the quantity prediction network\n",
        "\n",
        "tf.keras.utils.set_random_seed(123)\n",
        "\n",
        "# Initialize new BERT model from original\n",
        "bert2 = TFBertModel.from_pretrained(\"bert-base-uncased\")\n",
        "\n",
        "# for layer in bert2.layers:\n",
        "#     layer.trainable=False\n",
        "#     for w in layer.weights: w._trainable=False\n",
        "\n",
        "# Define inputs\n",
        "input_ids = Input(shape=(128,), dtype=tf.int32)\n",
        "token_type_ids = Input(shape=(128,), dtype=tf.int32)\n",
        "attention_mask = Input(shape=(128,), dtype=tf.int32)\n",
        "\n",
        "# First we compute the text embedding\n",
        "Z = bert2(input_ids, token_type_ids, attention_mask)\n",
        "\n",
        "# We want the \"pooled / summary\" embedding, not individual word embeddings\n",
        "Z = Z[1]\n",
        "\n",
        "ln_q_hat = Dense(1, activation='linear', kernel_regularizer=regularizers.L2(1e-3))(Z)\n",
        "\n",
        "# Compile model and optimization routine\n",
        "QuantityPredictionNetwork = Model([\n",
        "                                   input_ids,\n",
        "                                   token_type_ids,\n",
        "                                   attention_mask,\n",
        "                                   ], ln_q_hat)\n",
        "QuantityPredictionNetwork.compile(\n",
        "    optimizer=tf.keras.optimizers.Adam(learning_rate=1e-5),\n",
        "    loss=tf.keras.losses.MeanSquaredError(),\n",
        "    metrics=tfa.metrics.RSquare(),\n",
        ")\n",
        "QuantityPredictionNetwork.summary()"
      ]
    },
    {
      "cell_type": "code",
      "execution_count": null,
      "metadata": {
        "colab": {
          "base_uri": "https://localhost:8080/",
          "height": 1000
        },
        "id": "aaxHV0gGMqpw",
        "outputId": "11c72fec-94fd-4cb3-d9b1-c28e1d6bd3f6"
      },
      "outputs": [
        {
          "output_type": "display_data",
          "data": {
            "text/plain": [
              "<Figure size 864x864 with 4 Axes>"
            ],
            "image/png": "[encoded data removed]"
          },
          "metadata": {
            "needs_background": "light"
          }
        },
        {
          "output_type": "stream",
          "name": "stdout",
          "text": [
            "train_loss\n",
            "\ttraining         \t (min:    0.589, max:    6.221, cur:    0.589)\n",
            "train_rsq\n",
            "\ttraining         \t (min:   -2.886, max:    0.634, cur:    0.634)\n",
            "val_loss\n",
            "\tvalidation       \t (min:    1.323, max:    1.578, cur:    1.578)\n",
            "val_rsq\n",
            "\tvalidation       \t (min:   -0.051, max:    0.120, cur:   -0.051)\n",
            "\b\b\b\b\b\b\b\b\b\b\b\b\b\b\b\b\b\b\b\b\b\b\b\b\b\b\b\b\b\b\b\b\b\b\b\b\b\b\b\b\b\b\b\b\b\b\b\b\b\b\b\b\b\b\b\b\b\b\b\b\b\b\b\b\b\b\b\b\b\b\b\b\b\b\b\b\b\b\b\b\b\b\b\b\r301/301 [==============================] - 25s 83ms/step - loss: 0.5885 - r_square: 0.6335 - val_loss: 1.5783 - val_r_square: -0.0506\n"
          ]
        },
        {
          "output_type": "execute_result",
          "data": {
            "text/plain": [
              "<keras.callbacks.History at 0x7f099a1764c0>"
            ]
          },
          "metadata": {},
          "execution_count": 36
        }
      ],
      "source": [
        "## Fit the quantity prediction network in the main sample\n",
        "tf.keras.utils.set_random_seed(123)\n",
        "\n",
        "earlystopping = tf.keras.callbacks.EarlyStopping(monitor='val_loss', patience=5, restore_best_weights=True)\n",
        "modelcheckpoint = tf.keras.callbacks.ModelCheckpoint(\"/content/gdrive/MyDrive/qweights.hdf5\", monitor='val_loss', save_best_only=True, save_weights_only=True)\n",
        "\n",
        "QuantityPredictionNetwork.fit(\n",
        "                [\n",
        "                 tensors['input_ids'],\n",
        "                 tensors['token_type_ids'],\n",
        "                 tensors['attention_mask'],\n",
        "                 ],\n",
        "                ln_q,\n",
        "                validation_data = (\n",
        "                    [val_tensors['input_ids'],\n",
        "                 val_tensors['token_type_ids'],\n",
        "                 val_tensors['attention_mask']], val_ln_q\n",
        "                ),\n",
        "                epochs=10,\n",
        "                callbacks = [earlystopping, modelcheckpoint,\n",
        "                             PlotLossesKeras(groups = {'train_loss': ['loss'], 'train_rsq':['r_square'], 'val_loss': ['val_loss'], 'val_rsq': ['val_r_square']})],\n",
        "                batch_size=16,\n",
        "                shuffle=True)"
      ]
    },
    {
      "cell_type": "code",
      "source": [
        "QuantityPredictionNetwork.load_weights(\"/content/gdrive/MyDrive/qweights.hdf5\")"
      ],
      "metadata": {
        "id": "TfyQV3lw-xf2"
      },
      "execution_count": null,
      "outputs": []
    },
    {
      "cell_type": "code",
      "execution_count": null,
      "metadata": {
        "id": "YADpNj0jMygZ",
        "colab": {
          "base_uri": "https://localhost:8080/"
        },
        "outputId": "5c4922b3-1682-46e2-adec-00586dc7565e"
      },
      "outputs": [
        {
          "output_type": "stream",
          "name": "stdout",
          "text": [
            "51/51 [==============================] - 5s 39ms/step\n"
          ]
        }
      ],
      "source": [
        "## Predict in the holdout sample, residualize and regress\n",
        "\n",
        "ln_q_hat_holdout = QuantityPredictionNetwork.predict([\n",
        "                                                      tensors_holdout['input_ids'],\n",
        "                                                      tensors_holdout['token_type_ids'],\n",
        "                                                      tensors_holdout['attention_mask'],\n",
        "                                                      ])"
      ]
    },
    {
      "cell_type": "code",
      "source": [
        "print('Neural Net R^2, Quantity Prediction:')\n",
        "get_r2(holdout['ln_q'], ln_q_hat_holdout)"
      ],
      "metadata": {
        "colab": {
          "base_uri": "https://localhost:8080/"
        },
        "id": "jh4criU1hGIP",
        "outputId": "cbad39ef-ab12-4a0a-f713-f5365e7f5751"
      },
      "execution_count": null,
      "outputs": [
        {
          "output_type": "stream",
          "name": "stdout",
          "text": [
            "Neural Net R^2, Quantity Prediction:\n",
            "RSS: 2209.611281622743, TSS + MEAN^2: 174764.43693197635, TSS: 2488.879451114385, R^2: 0.11220638643892589\n"
          ]
        }
      ]
    },
    {
      "cell_type": "code",
      "execution_count": null,
      "metadata": {
        "colab": {
          "base_uri": "https://localhost:8080/"
        },
        "id": "ir-_yAfkPM6f",
        "outputId": "50cd5f99-99b2-47c3-c8af-05b76b401133"
      },
      "outputs": [
        {
          "output_type": "stream",
          "name": "stdout",
          "text": [
            "Elasticity of Demand with Respect to Price: -0.0654279560683773\n",
            "Standard Error: 0.039235091954966266\n"
          ]
        }
      ],
      "source": [
        "# Compute residuals\n",
        "r_p = holdout[\"ln_p\"] - ln_p_hat_holdout.reshape((-1,))\n",
        "r_q = holdout[\"ln_q\"] - ln_q_hat_holdout.reshape((-1,))\n",
        "\n",
        "# Regress to obtain elasticity estimate\n",
        "beta = np.mean(r_p * r_q) / np.mean(r_p * r_p)\n",
        "\n",
        "# standard error on elastiticy estimate\n",
        "se = np.sqrt(np.mean( (r_p* r_q)**2)/(np.mean(r_p*r_p)**2)/holdout[\"ln_p\"].size)\n",
        "\n",
        "print('Elasticity of Demand with Respect to Price: {}'.format(beta))\n",
        "print('Standard Error: {}'.format(se))"
      ]
    },
    {
      "cell_type": "markdown",
      "source": [
        "# Heterogeneous Elasticities within Major Product Categories\n",
        "\n",
        "We now look at the major product categories that have many products and we investigate whether the \"within group\" price elasticities"
      ],
      "metadata": {
        "id": "VCqeRTB_BNEH"
      }
    },
    {
      "cell_type": "code",
      "source": [
        "holdout['category'] = holdout['amazon_category_and_sub_category'].str.split('>').apply(lambda x: x[0])"
      ],
      "metadata": {
        "id": "XRUZEXqc8HPG"
      },
      "execution_count": null,
      "outputs": []
    },
    {
      "cell_type": "code",
      "source": [
        "# Elasticity within the main product categories\n",
        "sql.run(\"\"\"\n",
        "  SELECT category, COUNT(*)\n",
        "  FROM holdout\n",
        "  GROUP BY 1\n",
        "  HAVING COUNT(*)>=100\n",
        "  ORDER BY 2 desc\n",
        "\"\"\")"
      ],
      "metadata": {
        "colab": {
          "base_uri": "https://localhost:8080/",
          "height": 269
        },
        "id": "ymWJv4Ej7lt9",
        "outputId": "61697968-39ac-46e5-8a46-3abbaec78f6b"
      },
      "execution_count": null,
      "outputs": [
        {
          "output_type": "execute_result",
          "data": {
            "text/plain": [
              "                   category  COUNT(*)\n",
              "0                  Hobbies        251\n",
              "1  Die-Cast & Toy Vehicles        209\n",
              "2       Figures & Playsets        172\n",
              "3                    Games        162\n",
              "4      Characters & Brands        154\n",
              "5            Arts & Crafts        140\n",
              "6           Party Supplies        136"
            ],
            "text/html": [
              "\n",
              "  <div id=\"df-34882a9e-98ab-40a3-b43c-08a7155ba67e\">\n",
              "    <div class=\"colab-df-container\">\n",
              "      <div>\n",
              "<style scoped>\n",
              "    .dataframe tbody tr th:only-of-type {\n",
              "        vertical-align: middle;\n",
              "    }\n",
              "\n",
              "    .dataframe tbody tr th {\n",
              "        vertical-align: top;\n",
              "    }\n",
              "\n",
              "    .dataframe thead th {\n",
              "        text-align: right;\n",
              "    }\n",
              "</style>\n",
              "<table border=\"1\" class=\"dataframe\">\n",
              "  <thead>\n",
              "    <tr style=\"text-align: right;\">\n",
              "      <th></th>\n",
              "      <th>category</th>\n",
              "      <th>COUNT(*)</th>\n",
              "    </tr>\n",
              "  </thead>\n",
              "  <tbody>\n",
              "    <tr>\n",
              "      <th>0</th>\n",
              "      <td>Hobbies</td>\n",
              "      <td>251</td>\n",
              "    </tr>\n",
              "    <tr>\n",
              "      <th>1</th>\n",
              "      <td>Die-Cast &amp; Toy Vehicles</td>\n",
              "      <td>209</td>\n",
              "    </tr>\n",
              "    <tr>\n",
              "      <th>2</th>\n",
              "      <td>Figures &amp; Playsets</td>\n",
              "      <td>172</td>\n",
              "    </tr>\n",
              "    <tr>\n",
              "      <th>3</th>\n",
              "      <td>Games</td>\n",
              "      <td>162</td>\n",
              "    </tr>\n",
              "    <tr>\n",
              "      <th>4</th>\n",
              "      <td>Characters &amp; Brands</td>\n",
              "      <td>154</td>\n",
              "    </tr>\n",
              "    <tr>\n",
              "      <th>5</th>\n",
              "      <td>Arts &amp; Crafts</td>\n",
              "      <td>140</td>\n",
              "    </tr>\n",
              "    <tr>\n",
              "      <th>6</th>\n",
              "      <td>Party Supplies</td>\n",
              "      <td>136</td>\n",
              "    </tr>\n",
              "  </tbody>\n",
              "</table>\n",
              "</div>\n",
              "      <button class=\"colab-df-convert\" onclick=\"convertToInteractive('df-34882a9e-98ab-40a3-b43c-08a7155ba67e')\"\n",
              "              title=\"Convert this dataframe to an interactive table.\"\n",
              "              style=\"display:none;\">\n",
              "        \n",
              "  <svg xmlns=\"http://www.w3.org/2000/svg\" height=\"24px\"viewBox=\"0 0 24 24\"\n",
              "       width=\"24px\">\n",
              "    <path d=\"M0 0h24v24H0V0z\" fill=\"none\"/>\n",
              "    <path d=\"M18.56 5.44l.94 2.06.94-2.06 2.06-.94-2.06-.94-.94-2.06-.94 2.06-2.06.94zm-11 1L8.5 8.5l.94-2.06 2.06-.94-2.06-.94L8.5 2.5l-.94 2.06-2.06.94zm10 10l.94 2.06.94-2.06 2.06-.94-2.06-.94-.94-2.06-.94 2.06-2.06.94z\"/><path d=\"M17.41 7.96l-1.37-1.37c-.4-.4-.92-.59-1.43-.59-.52 0-1.04.2-1.43.59L10.3 9.45l-7.72 7.72c-.78.78-.78 2.05 0 2.83L4 21.41c.39.39.9.59 1.41.59.51 0 1.02-.2 1.41-.59l7.78-7.78 2.81-2.81c.8-.78.8-2.07 0-2.86zM5.41 20L4 18.59l7.72-7.72 1.47 1.35L5.41 20z\"/>\n",
              "  </svg>\n",
              "      </button>\n",
              "      \n",
              "  <style>\n",
              "    .colab-df-container {\n",
              "      display:flex;\n",
              "      flex-wrap:wrap;\n",
              "      gap: 12px;\n",
              "    }\n",
              "\n",
              "    .colab-df-convert {\n",
              "      background-color: #E8F0FE;\n",
              "      border: none;\n",
              "      border-radius: 50%;\n",
              "      cursor: pointer;\n",
              "      display: none;\n",
              "      fill: #1967D2;\n",
              "      height: 32px;\n",
              "      padding: 0 0 0 0;\n",
              "      width: 32px;\n",
              "    }\n",
              "\n",
              "    .colab-df-convert:hover {\n",
              "      background-color: #E2EBFA;\n",
              "      box-shadow: 0px 1px 2px rgba(60, 64, 67, 0.3), 0px 1px 3px 1px rgba(60, 64, 67, 0.15);\n",
              "      fill: #174EA6;\n",
              "    }\n",
              "\n",
              "    [theme=dark] .colab-df-convert {\n",
              "      background-color: #3B4455;\n",
              "      fill: #D2E3FC;\n",
              "    }\n",
              "\n",
              "    [theme=dark] .colab-df-convert:hover {\n",
              "      background-color: #434B5C;\n",
              "      box-shadow: 0px 1px 3px 1px rgba(0, 0, 0, 0.15);\n",
              "      filter: drop-shadow(0px 1px 2px rgba(0, 0, 0, 0.3));\n",
              "      fill: #FFFFFF;\n",
              "    }\n",
              "  </style>\n",
              "\n",
              "      <script>\n",
              "        const buttonEl =\n",
              "          document.querySelector('#df-34882a9e-98ab-40a3-b43c-08a7155ba67e button.colab-df-convert');\n",
              "        buttonEl.style.display =\n",
              "          google.colab.kernel.accessAllowed ? 'block' : 'none';\n",
              "\n",
              "        async function convertToInteractive(key) {\n",
              "          const element = document.querySelector('#df-34882a9e-98ab-40a3-b43c-08a7155ba67e');\n",
              "          const dataTable =\n",
              "            await google.colab.kernel.invokeFunction('convertToInteractive',\n",
              "                                                     [key], {});\n",
              "          if (!dataTable) return;\n",
              "\n",
              "          const docLinkHtml = 'Like what you see? Visit the ' +\n",
              "            '<a target=\"_blank\" href=https://colab.research.google.com/notebooks/data_table.ipynb>data table notebook</a>'\n",
              "            + ' to learn more about interactive tables.';\n",
              "          element.innerHTML = '';\n",
              "          dataTable['output_type'] = 'display_data';\n",
              "          await google.colab.output.renderOutput(dataTable, element);\n",
              "          const docLink = document.createElement('div');\n",
              "          docLink.innerHTML = docLinkHtml;\n",
              "          element.appendChild(docLink);\n",
              "        }\n",
              "      </script>\n",
              "    </div>\n",
              "  </div>\n",
              "  "
            ]
          },
          "metadata": {},
          "execution_count": 42
        }
      ]
    },
    {
      "cell_type": "code",
      "source": [
        "main_cats = sql.run(\"\"\"\n",
        "  SELECT category\n",
        "  FROM holdout\n",
        "  GROUP BY 1\n",
        "  HAVING COUNT(*)>=100\n",
        "\"\"\")['category']\n",
        "\n",
        "dfs = []\n",
        "for cat in main_cats:\n",
        "    r_p = holdout[holdout['category'] == cat][\"ln_p\"] - ln_p_hat_holdout.reshape((-1,))[holdout['category'] == cat]\n",
        "    r_q = holdout[holdout['category'] == cat][\"ln_q\"] - ln_q_hat_holdout.reshape((-1,))[holdout['category'] == cat]\n",
        "    # Regress to obtain elasticity estimate\n",
        "    beta = np.mean(r_p * r_q) / np.mean(r_p * r_p)\n",
        "\n",
        "    # standard error on elastiticy estimate\n",
        "    se = np.sqrt(np.mean( (r_p* r_q)**2)/(np.mean(r_p*r_p)**2)/holdout[\"ln_p\"].size)\n",
        "\n",
        "    df = pd.DataFrame({'point': beta, 'se': se, 'lower': beta - 1.96 * se, 'upper': beta + 1.96 * se}, index=[0])\n",
        "    df['category'] = cat\n",
        "    df['N'] = holdout[holdout['category'] == cat].shape[0]\n",
        "    dfs.append(df)\n",
        "\n",
        "df = pd.concat(dfs)\n",
        "df"
      ],
      "metadata": {
        "colab": {
          "base_uri": "https://localhost:8080/",
          "height": 269
        },
        "id": "E3ncPtwt8nJi",
        "outputId": "40196b3b-9c62-47ed-9f34-d1047d0eb9f5"
      },
      "execution_count": null,
      "outputs": [
        {
          "output_type": "execute_result",
          "data": {
            "text/plain": [
              "      point        se     lower     upper                  category    N\n",
              "0 -0.112472  0.060480 -0.231013  0.006070            Arts & Crafts   140\n",
              "0  0.084301  0.053467 -0.020494  0.189097      Characters & Brands   154\n",
              "0  0.039444  0.027593 -0.014639  0.093526  Die-Cast & Toy Vehicles   209\n",
              "0  0.000310  0.030479 -0.059429  0.060049       Figures & Playsets   172\n",
              "0 -0.162961  0.045047 -0.251253 -0.074669                    Games   162\n",
              "0 -0.025897  0.024416 -0.073753  0.021959                  Hobbies   251\n",
              "0 -0.347834  0.045676 -0.437360 -0.258309           Party Supplies   136"
            ],
            "text/html": [
              "\n",
              "  <div id=\"df-c45f35b5-c993-4ee7-bd5c-6ffac2974539\">\n",
              "    <div class=\"colab-df-container\">\n",
              "      <div>\n",
              "<style scoped>\n",
              "    .dataframe tbody tr th:only-of-type {\n",
              "        vertical-align: middle;\n",
              "    }\n",
              "\n",
              "    .dataframe tbody tr th {\n",
              "        vertical-align: top;\n",
              "    }\n",
              "\n",
              "    .dataframe thead th {\n",
              "        text-align: right;\n",
              "    }\n",
              "</style>\n",
              "<table border=\"1\" class=\"dataframe\">\n",
              "  <thead>\n",
              "    <tr style=\"text-align: right;\">\n",
              "      <th></th>\n",
              "      <th>point</th>\n",
              "      <th>se</th>\n",
              "      <th>lower</th>\n",
              "      <th>upper</th>\n",
              "      <th>category</th>\n",
              "      <th>N</th>\n",
              "    </tr>\n",
              "  </thead>\n",
              "  <tbody>\n",
              "    <tr>\n",
              "      <th>0</th>\n",
              "      <td>-0.112472</td>\n",
              "      <td>0.060480</td>\n",
              "      <td>-0.231013</td>\n",
              "      <td>0.006070</td>\n",
              "      <td>Arts &amp; Crafts</td>\n",
              "      <td>140</td>\n",
              "    </tr>\n",
              "    <tr>\n",
              "      <th>0</th>\n",
              "      <td>0.084301</td>\n",
              "      <td>0.053467</td>\n",
              "      <td>-0.020494</td>\n",
              "      <td>0.189097</td>\n",
              "      <td>Characters &amp; Brands</td>\n",
              "      <td>154</td>\n",
              "    </tr>\n",
              "    <tr>\n",
              "      <th>0</th>\n",
              "      <td>0.039444</td>\n",
              "      <td>0.027593</td>\n",
              "      <td>-0.014639</td>\n",
              "      <td>0.093526</td>\n",
              "      <td>Die-Cast &amp; Toy Vehicles</td>\n",
              "      <td>209</td>\n",
              "    </tr>\n",
              "    <tr>\n",
              "      <th>0</th>\n",
              "      <td>0.000310</td>\n",
              "      <td>0.030479</td>\n",
              "      <td>-0.059429</td>\n",
              "      <td>0.060049</td>\n",
              "      <td>Figures &amp; Playsets</td>\n",
              "      <td>172</td>\n",
              "    </tr>\n",
              "    <tr>\n",
              "      <th>0</th>\n",
              "      <td>-0.162961</td>\n",
              "      <td>0.045047</td>\n",
              "      <td>-0.251253</td>\n",
              "      <td>-0.074669</td>\n",
              "      <td>Games</td>\n",
              "      <td>162</td>\n",
              "    </tr>\n",
              "    <tr>\n",
              "      <th>0</th>\n",
              "      <td>-0.025897</td>\n",
              "      <td>0.024416</td>\n",
              "      <td>-0.073753</td>\n",
              "      <td>0.021959</td>\n",
              "      <td>Hobbies</td>\n",
              "      <td>251</td>\n",
              "    </tr>\n",
              "    <tr>\n",
              "      <th>0</th>\n",
              "      <td>-0.347834</td>\n",
              "      <td>0.045676</td>\n",
              "      <td>-0.437360</td>\n",
              "      <td>-0.258309</td>\n",
              "      <td>Party Supplies</td>\n",
              "      <td>136</td>\n",
              "    </tr>\n",
              "  </tbody>\n",
              "</table>\n",
              "</div>\n",
              "      <button class=\"colab-df-convert\" onclick=\"convertToInteractive('df-c45f35b5-c993-4ee7-bd5c-6ffac2974539')\"\n",
              "              title=\"Convert this dataframe to an interactive table.\"\n",
              "              style=\"display:none;\">\n",
              "        \n",
              "  <svg xmlns=\"http://www.w3.org/2000/svg\" height=\"24px\"viewBox=\"0 0 24 24\"\n",
              "       width=\"24px\">\n",
              "    <path d=\"M0 0h24v24H0V0z\" fill=\"none\"/>\n",
              "    <path d=\"M18.56 5.44l.94 2.06.94-2.06 2.06-.94-2.06-.94-.94-2.06-.94 2.06-2.06.94zm-11 1L8.5 8.5l.94-2.06 2.06-.94-2.06-.94L8.5 2.5l-.94 2.06-2.06.94zm10 10l.94 2.06.94-2.06 2.06-.94-2.06-.94-.94-2.06-.94 2.06-2.06.94z\"/><path d=\"M17.41 7.96l-1.37-1.37c-.4-.4-.92-.59-1.43-.59-.52 0-1.04.2-1.43.59L10.3 9.45l-7.72 7.72c-.78.78-.78 2.05 0 2.83L4 21.41c.39.39.9.59 1.41.59.51 0 1.02-.2 1.41-.59l7.78-7.78 2.81-2.81c.8-.78.8-2.07 0-2.86zM5.41 20L4 18.59l7.72-7.72 1.47 1.35L5.41 20z\"/>\n",
              "  </svg>\n",
              "      </button>\n",
              "      \n",
              "  <style>\n",
              "    .colab-df-container {\n",
              "      display:flex;\n",
              "      flex-wrap:wrap;\n",
              "      gap: 12px;\n",
              "    }\n",
              "\n",
              "    .colab-df-convert {\n",
              "      background-color: #E8F0FE;\n",
              "      border: none;\n",
              "      border-radius: 50%;\n",
              "      cursor: pointer;\n",
              "      display: none;\n",
              "      fill: #1967D2;\n",
              "      height: 32px;\n",
              "      padding: 0 0 0 0;\n",
              "      width: 32px;\n",
              "    }\n",
              "\n",
              "    .colab-df-convert:hover {\n",
              "      background-color: #E2EBFA;\n",
              "      box-shadow: 0px 1px 2px rgba(60, 64, 67, 0.3), 0px 1px 3px 1px rgba(60, 64, 67, 0.15);\n",
              "      fill: #174EA6;\n",
              "    }\n",
              "\n",
              "    [theme=dark] .colab-df-convert {\n",
              "      background-color: #3B4455;\n",
              "      fill: #D2E3FC;\n",
              "    }\n",
              "\n",
              "    [theme=dark] .colab-df-convert:hover {\n",
              "      background-color: #434B5C;\n",
              "      box-shadow: 0px 1px 3px 1px rgba(0, 0, 0, 0.15);\n",
              "      filter: drop-shadow(0px 1px 2px rgba(0, 0, 0, 0.3));\n",
              "      fill: #FFFFFF;\n",
              "    }\n",
              "  </style>\n",
              "\n",
              "      <script>\n",
              "        const buttonEl =\n",
              "          document.querySelector('#df-c45f35b5-c993-4ee7-bd5c-6ffac2974539 button.colab-df-convert');\n",
              "        buttonEl.style.display =\n",
              "          google.colab.kernel.accessAllowed ? 'block' : 'none';\n",
              "\n",
              "        async function convertToInteractive(key) {\n",
              "          const element = document.querySelector('#df-c45f35b5-c993-4ee7-bd5c-6ffac2974539');\n",
              "          const dataTable =\n",
              "            await google.colab.kernel.invokeFunction('convertToInteractive',\n",
              "                                                     [key], {});\n",
              "          if (!dataTable) return;\n",
              "\n",
              "          const docLinkHtml = 'Like what you see? Visit the ' +\n",
              "            '<a target=\"_blank\" href=https://colab.research.google.com/notebooks/data_table.ipynb>data table notebook</a>'\n",
              "            + ' to learn more about interactive tables.';\n",
              "          element.innerHTML = '';\n",
              "          dataTable['output_type'] = 'display_data';\n",
              "          await google.colab.output.renderOutput(dataTable, element);\n",
              "          const docLink = document.createElement('div');\n",
              "          docLink.innerHTML = docLinkHtml;\n",
              "          element.appendChild(docLink);\n",
              "        }\n",
              "      </script>\n",
              "    </div>\n",
              "  </div>\n",
              "  "
            ]
          },
          "metadata": {},
          "execution_count": 52
        }
      ]
    },
    {
      "cell_type": "markdown",
      "source": [
        "## Clustering Products\n",
        "\n",
        "In this final part of the notebook, we'll illustrate how the BERT text embeddings can be used to cluster products based on their  descriptions.\n",
        "\n",
        "Intiuitively, our neural network has now learned which aspects of the text description are relevant to predict prices and market shares.\n",
        "We can therefore use the embeddings produced by our network to cluster products, and we might expect that the clusters reflect market-relevant information.\n",
        "\n",
        "In the following block of cells, we compute embeddings using our learned models and cluster them using $k$-means clustering with $k=10$. Finally, we will explore how the estimated price elasticity differs across clusters.\n",
        "\n",
        "### Overview of **$k$-means clustering**\n",
        "The $k$-means clustering algorithm seeks to divide $n$ data vectors into $k$ groups, each of which contain points that are \"close together.\"\n",
        "\n",
        "In particular, let $C_1, \\ldots, C_k$ be a partitioning of the data into $k$ disjoint, nonempty subsets (clusters), and define\n",
        "$$\\bar{C_i}=\\frac{1}{\\#C_i}\\sum_{x \\in C_i} x$$\n",
        "to be the *centroid* of the cluster $C_i$. The $k$-means clustering score $\\mathrm{sc}(C_1 \\ldots C_k)$ is defined to be\n",
        "$$\\mathrm{sc}(C_1 \\ldots C_k) = \\sum_{i=1}^k \\sum_{x \\in C_i} \\left(x - \\bar{C_i}\\right)^2.$$\n",
        "\n",
        "The $k$-means clustering is then defined to be any partitioning $C^*_1 \\ldots C^*_k$ that minimizes the score $\\mathrm{sc}(-)$.\n",
        "\n",
        "**Problem 4** Show that the $k$-means clustering depends only on the pairwise distances between points. *Hint: verify that $\\sum_{x,y \\in C_i} (x - \\bar{C_i})(y - \\bar{C_i}) = 0$.*"
      ],
      "metadata": {
        "id": "QFTjf9vP6Zfu"
      }
    },
    {
      "cell_type": "code",
      "execution_count": null,
      "metadata": {
        "id": "Mc7I00JPK6wJ",
        "colab": {
          "base_uri": "https://localhost:8080/"
        },
        "outputId": "ae31662f-8a09-4393-ca62-e205b999f5d0"
      },
      "outputs": [
        {
          "output_type": "stream",
          "name": "stdout",
          "text": [
            "51/51 [==============================] - 10s 61ms/step\n"
          ]
        }
      ],
      "source": [
        "## STEP 1: Compute embeddings\n",
        "\n",
        "input_ids = Input(shape=(128,), dtype=tf.int32)\n",
        "token_type_ids = Input(shape=(128,), dtype=tf.int32)\n",
        "attention_mask = Input(shape=(128,), dtype=tf.int32)\n",
        "\n",
        "Y1 = bert(input_ids, token_type_ids, attention_mask)[1]\n",
        "Y2 = bert2(input_ids, token_type_ids, attention_mask)[1]\n",
        "Y = Concatenate()([Y1,Y2])\n",
        "\n",
        "embedding_model = Model([input_ids, token_type_ids, attention_mask], Y)\n",
        "\n",
        "embeddings = embedding_model.predict([tensors_holdout['input_ids'],\n",
        "                                      tensors_holdout['token_type_ids'],\n",
        "                                      tensors_holdout['attention_mask']])"
      ]
    },
    {
      "cell_type": "markdown",
      "source": [
        "### Dimension reduction and the **Johnson-Lindenstrauss transform**\n",
        "\n",
        "Our learned embeddings have dimension in the $1000$s, and $k$-means clustering is often an expensive operation. To improve the situation, we will use a neat trick that is used extensively in machine learning applications: the *Johnson-Lindenstrauss transform*.\n",
        "\n",
        "This trick involves finding a low-dimensional linear projection of the embeddings that approximately preserves pairwise distances.\n",
        "\n",
        "In fact, Johnson and Lindenstrauss proved a much more interesting statement: a Gaussian random matrix will *almost always* approximately preserve pairwise distances.\n",
        "\n",
        "**Problem 5** Suppose we have a low-dimensional projection matrix $\\Pi$ that preserves pairwise distances, and let $X$ be the design matrix. Explain how and why we could compute the $k$-means clustering using only the projected data $\\Pi X$. *Hint: use Problem 4.*\n",
        "\n"
      ],
      "metadata": {
        "id": "hCG2MunU6iF-"
      }
    },
    {
      "cell_type": "code",
      "source": [
        "# STEP 2 Make low-dimensional projections\n",
        "from sklearn.random_projection import GaussianRandomProjection\n",
        "\n",
        "jl = GaussianRandomProjection(eps=.25)\n",
        "embeddings_lowdim = jl.fit_transform(embeddings)"
      ],
      "metadata": {
        "id": "afGiLR7v6ecJ"
      },
      "execution_count": null,
      "outputs": []
    },
    {
      "cell_type": "code",
      "source": [
        "# STEP 3 Compute clusters\n",
        "from sklearn.cluster import KMeans\n",
        "\n",
        "k_means = KMeans(n_clusters=10)\n",
        "k_means.fit(embeddings_lowdim)\n",
        "cluster_ids = k_means.labels_"
      ],
      "metadata": {
        "id": "9Tl9AM3J6j3X"
      },
      "execution_count": null,
      "outputs": []
    },
    {
      "cell_type": "code",
      "source": [
        "# STEP 4 Regress within each cluster\n",
        "\n",
        "betas = np.zeros(10)\n",
        "ses = np.zeros(10)\n",
        "\n",
        "r_p = holdout[\"ln_p\"] - ln_p_hat_holdout.reshape((-1,))\n",
        "r_q = holdout[\"ln_q\"] - ln_q_hat_holdout.reshape((-1,))\n",
        "\n",
        "for c in range(10):\n",
        "\n",
        "  r_p_c = r_p[cluster_ids == c]\n",
        "  r_q_c = r_q[cluster_ids == c]\n",
        "\n",
        "  # Regress to obtain elasticity estimate\n",
        "  betas[c] = np.mean(r_p_c * r_q_c) / np.mean(r_p_c * r_p_c)\n",
        "\n",
        "  # standard error on elastiticy estimate\n",
        "  ses[c] = np.sqrt(np.mean( (r_p_c * r_q_c)**2)/(np.mean(r_p_c*r_p_c)**2)/r_p_c.size)"
      ],
      "metadata": {
        "id": "0l7De-Do6mD0"
      },
      "execution_count": null,
      "outputs": []
    },
    {
      "cell_type": "code",
      "source": [
        "# STEP 5 Plot\n",
        "from matplotlib import pyplot as plt\n",
        "\n",
        "plt.bar(range(10), betas, yerr = 1.96 * ses)"
      ],
      "metadata": {
        "colab": {
          "base_uri": "https://localhost:8080/",
          "height": 282
        },
        "id": "oXoe98f06njT",
        "outputId": "8b29988e-ee0d-4324-c0ae-0979394e55ef"
      },
      "execution_count": null,
      "outputs": [
        {
          "output_type": "execute_result",
          "data": {
            "text/plain": [
              "<BarContainer object of 10 artists>"
            ]
          },
          "metadata": {},
          "execution_count": 58
        },
        {
          "output_type": "display_data",
          "data": {
            "text/plain": [
              "<Figure size 432x288 with 1 Axes>"
            ],
            "image/png": "[encoded data removed]"
          },
          "metadata": {
            "needs_background": "light"
          }
        }
      ]
    },
    {
      "cell_type": "code",
      "source": [],
      "metadata": {
        "id": "8tTqUNeH6sxi"
      },
      "execution_count": null,
      "outputs": []
    }
  ],
  "metadata": {
    "accelerator": "GPU",
    "colab": {
      "provenance": [],
      "machine_shape": "hm",
      "gpuClass": "premium",
      "include_colab_link": true
    },
    "kernelspec": {
      "display_name": "Python 3",
      "name": "python3"
    },
    "gpuClass": "premium",
    "widgets": {
      "application/vnd.jupyter.widget-state+json": {
        "347cbf3efb7a42018630912dcc7cb445": {
          "model_module": "@jupyter-widgets/controls",
          "model_name": "HBoxModel",
          "model_module_version": "1.5.0",
          "state": {
            "_dom_classes": [],
            "_model_module": "@jupyter-widgets/controls",
            "_model_module_version": "1.5.0",
            "_model_name": "HBoxModel",
            "_view_count": null,
            "_view_module": "@jupyter-widgets/controls",
            "_view_module_version": "1.5.0",
            "_view_name": "HBoxView",
            "box_style": "",
            "children": [
              "IPY_MODEL_be407cc459c14feda0490851be37a6fd",
              "IPY_MODEL_ffcd1734377b40668ee8f29704109b0d",
              "IPY_MODEL_a095480737e641e59158b28af0e3b18d"
            ],
            "layout": "IPY_MODEL_df6608328a004b27814f2d82964084c0"
          }
        },
        "be407cc459c14feda0490851be37a6fd": {
          "model_module": "@jupyter-widgets/controls",
          "model_name": "HTMLModel",
          "model_module_version": "1.5.0",
          "state": {
            "_dom_classes": [],
            "_model_module": "@jupyter-widgets/controls",
            "_model_module_version": "1.5.0",
            "_model_name": "HTMLModel",
            "_view_count": null,
            "_view_module": "@jupyter-widgets/controls",
            "_view_module_version": "1.5.0",
            "_view_name": "HTMLView",
            "description": "",
            "description_tooltip": null,
            "layout": "IPY_MODEL_36d27a5c0bf6439ab361a97a14e7dcd7",
            "placeholder": "​",
            "style": "IPY_MODEL_18594467a31042edba852ee1fe7d051c",
            "value": "tokenizer_config.json: 100%"
          }
        },
        "ffcd1734377b40668ee8f29704109b0d": {
          "model_module": "@jupyter-widgets/controls",
          "model_name": "FloatProgressModel",
          "model_module_version": "1.5.0",
          "state": {
            "_dom_classes": [],
            "_model_module": "@jupyter-widgets/controls",
            "_model_module_version": "1.5.0",
            "_model_name": "FloatProgressModel",
            "_view_count": null,
            "_view_module": "@jupyter-widgets/controls",
            "_view_module_version": "1.5.0",
            "_view_name": "ProgressView",
            "bar_style": "success",
            "description": "",
            "description_tooltip": null,
            "layout": "IPY_MODEL_1545f430c6bd4b3597ea8345c834c9a5",
            "max": 48,
            "min": 0,
            "orientation": "horizontal",
            "style": "IPY_MODEL_2bf81f5a54ee4c9ab73f791b8d00a1c5",
            "value": 48
          }
        },
        "a095480737e641e59158b28af0e3b18d": {
          "model_module": "@jupyter-widgets/controls",
          "model_name": "HTMLModel",
          "model_module_version": "1.5.0",
          "state": {
            "_dom_classes": [],
            "_model_module": "@jupyter-widgets/controls",
            "_model_module_version": "1.5.0",
            "_model_name": "HTMLModel",
            "_view_count": null,
            "_view_module": "@jupyter-widgets/controls",
            "_view_module_version": "1.5.0",
            "_view_name": "HTMLView",
            "description": "",
            "description_tooltip": null,
            "layout": "IPY_MODEL_19f3c4d08bbb48eaacff1357c887f467",
            "placeholder": "​",
            "style": "IPY_MODEL_15ac966b8df1466a802a97ab014138de",
            "value": " 48.0/48.0 [00:00&lt;00:00, 1.41kB/s]"
          }
        },
        "df6608328a004b27814f2d82964084c0": {
          "model_module": "@jupyter-widgets/base",
          "model_name": "LayoutModel",
          "model_module_version": "1.2.0",
          "state": {
            "_model_module": "@jupyter-widgets/base",
            "_model_module_version": "1.2.0",
            "_model_name": "LayoutModel",
            "_view_count": null,
            "_view_module": "@jupyter-widgets/base",
            "_view_module_version": "1.2.0",
            "_view_name": "LayoutView",
            "align_content": null,
            "align_items": null,
            "align_self": null,
            "border": null,
            "bottom": null,
            "display": null,
            "flex": null,
            "flex_flow": null,
            "grid_area": null,
            "grid_auto_columns": null,
            "grid_auto_flow": null,
            "grid_auto_rows": null,
            "grid_column": null,
            "grid_gap": null,
            "grid_row": null,
            "grid_template_areas": null,
            "grid_template_columns": null,
            "grid_template_rows": null,
            "height": null,
            "justify_content": null,
            "justify_items": null,
            "left": null,
            "margin": null,
            "max_height": null,
            "max_width": null,
            "min_height": null,
            "min_width": null,
            "object_fit": null,
            "object_position": null,
            "order": null,
            "overflow": null,
            "overflow_x": null,
            "overflow_y": null,
            "padding": null,
            "right": null,
            "top": null,
            "visibility": null,
            "width": null
          }
        },
        "36d27a5c0bf6439ab361a97a14e7dcd7": {
          "model_module": "@jupyter-widgets/base",
          "model_name": "LayoutModel",
          "model_module_version": "1.2.0",
          "state": {
            "_model_module": "@jupyter-widgets/base",
            "_model_module_version": "1.2.0",
            "_model_name": "LayoutModel",
            "_view_count": null,
            "_view_module": "@jupyter-widgets/base",
            "_view_module_version": "1.2.0",
            "_view_name": "LayoutView",
            "align_content": null,
            "align_items": null,
            "align_self": null,
            "border": null,
            "bottom": null,
            "display": null,
            "flex": null,
            "flex_flow": null,
            "grid_area": null,
            "grid_auto_columns": null,
            "grid_auto_flow": null,
            "grid_auto_rows": null,
            "grid_column": null,
            "grid_gap": null,
            "grid_row": null,
            "grid_template_areas": null,
            "grid_template_columns": null,
            "grid_template_rows": null,
            "height": null,
            "justify_content": null,
            "justify_items": null,
            "left": null,
            "margin": null,
            "max_height": null,
            "max_width": null,
            "min_height": null,
            "min_width": null,
            "object_fit": null,
            "object_position": null,
            "order": null,
            "overflow": null,
            "overflow_x": null,
            "overflow_y": null,
            "padding": null,
            "right": null,
            "top": null,
            "visibility": null,
            "width": null
          }
        },
        "18594467a31042edba852ee1fe7d051c": {
          "model_module": "@jupyter-widgets/controls",
          "model_name": "DescriptionStyleModel",
          "model_module_version": "1.5.0",
          "state": {
            "_model_module": "@jupyter-widgets/controls",
            "_model_module_version": "1.5.0",
            "_model_name": "DescriptionStyleModel",
            "_view_count": null,
            "_view_module": "@jupyter-widgets/base",
            "_view_module_version": "1.2.0",
            "_view_name": "StyleView",
            "description_width": ""
          }
        },
        "1545f430c6bd4b3597ea8345c834c9a5": {
          "model_module": "@jupyter-widgets/base",
          "model_name": "LayoutModel",
          "model_module_version": "1.2.0",
          "state": {
            "_model_module": "@jupyter-widgets/base",
            "_model_module_version": "1.2.0",
            "_model_name": "LayoutModel",
            "_view_count": null,
            "_view_module": "@jupyter-widgets/base",
            "_view_module_version": "1.2.0",
            "_view_name": "LayoutView",
            "align_content": null,
            "align_items": null,
            "align_self": null,
            "border": null,
            "bottom": null,
            "display": null,
            "flex": null,
            "flex_flow": null,
            "grid_area": null,
            "grid_auto_columns": null,
            "grid_auto_flow": null,
            "grid_auto_rows": null,
            "grid_column": null,
            "grid_gap": null,
            "grid_row": null,
            "grid_template_areas": null,
            "grid_template_columns": null,
            "grid_template_rows": null,
            "height": null,
            "justify_content": null,
            "justify_items": null,
            "left": null,
            "margin": null,
            "max_height": null,
            "max_width": null,
            "min_height": null,
            "min_width": null,
            "object_fit": null,
            "object_position": null,
            "order": null,
            "overflow": null,
            "overflow_x": null,
            "overflow_y": null,
            "padding": null,
            "right": null,
            "top": null,
            "visibility": null,
            "width": null
          }
        },
        "2bf81f5a54ee4c9ab73f791b8d00a1c5": {
          "model_module": "@jupyter-widgets/controls",
          "model_name": "ProgressStyleModel",
          "model_module_version": "1.5.0",
          "state": {
            "_model_module": "@jupyter-widgets/controls",
            "_model_module_version": "1.5.0",
            "_model_name": "ProgressStyleModel",
            "_view_count": null,
            "_view_module": "@jupyter-widgets/base",
            "_view_module_version": "1.2.0",
            "_view_name": "StyleView",
            "bar_color": null,
            "description_width": ""
          }
        },
        "19f3c4d08bbb48eaacff1357c887f467": {
          "model_module": "@jupyter-widgets/base",
          "model_name": "LayoutModel",
          "model_module_version": "1.2.0",
          "state": {
            "_model_module": "@jupyter-widgets/base",
            "_model_module_version": "1.2.0",
            "_model_name": "LayoutModel",
            "_view_count": null,
            "_view_module": "@jupyter-widgets/base",
            "_view_module_version": "1.2.0",
            "_view_name": "LayoutView",
            "align_content": null,
            "align_items": null,
            "align_self": null,
            "border": null,
            "bottom": null,
            "display": null,
            "flex": null,
            "flex_flow": null,
            "grid_area": null,
            "grid_auto_columns": null,
            "grid_auto_flow": null,
            "grid_auto_rows": null,
            "grid_column": null,
            "grid_gap": null,
            "grid_row": null,
            "grid_template_areas": null,
            "grid_template_columns": null,
            "grid_template_rows": null,
            "height": null,
            "justify_content": null,
            "justify_items": null,
            "left": null,
            "margin": null,
            "max_height": null,
            "max_width": null,
            "min_height": null,
            "min_width": null,
            "object_fit": null,
            "object_position": null,
            "order": null,
            "overflow": null,
            "overflow_x": null,
            "overflow_y": null,
            "padding": null,
            "right": null,
            "top": null,
            "visibility": null,
            "width": null
          }
        },
        "15ac966b8df1466a802a97ab014138de": {
          "model_module": "@jupyter-widgets/controls",
          "model_name": "DescriptionStyleModel",
          "model_module_version": "1.5.0",
          "state": {
            "_model_module": "@jupyter-widgets/controls",
            "_model_module_version": "1.5.0",
            "_model_name": "DescriptionStyleModel",
            "_view_count": null,
            "_view_module": "@jupyter-widgets/base",
            "_view_module_version": "1.2.0",
            "_view_name": "StyleView",
            "description_width": ""
          }
        },
        "2bbe8228a2dc4b8db9dbbf676b795900": {
          "model_module": "@jupyter-widgets/controls",
          "model_name": "HBoxModel",
          "model_module_version": "1.5.0",
          "state": {
            "_dom_classes": [],
            "_model_module": "@jupyter-widgets/controls",
            "_model_module_version": "1.5.0",
            "_model_name": "HBoxModel",
            "_view_count": null,
            "_view_module": "@jupyter-widgets/controls",
            "_view_module_version": "1.5.0",
            "_view_name": "HBoxView",
            "box_style": "",
            "children": [
              "IPY_MODEL_280056f4a785428b87616dc748ea4e1a",
              "IPY_MODEL_7c7c766e5b73462e8359f31c98492ba2",
              "IPY_MODEL_85abf380c25d490696399fc11e68fa5e"
            ],
            "layout": "IPY_MODEL_907ed46296ac4e269d1d43188a119f1d"
          }
        },
        "280056f4a785428b87616dc748ea4e1a": {
          "model_module": "@jupyter-widgets/controls",
          "model_name": "HTMLModel",
          "model_module_version": "1.5.0",
          "state": {
            "_dom_classes": [],
            "_model_module": "@jupyter-widgets/controls",
            "_model_module_version": "1.5.0",
            "_model_name": "HTMLModel",
            "_view_count": null,
            "_view_module": "@jupyter-widgets/controls",
            "_view_module_version": "1.5.0",
            "_view_name": "HTMLView",
            "description": "",
            "description_tooltip": null,
            "layout": "IPY_MODEL_fcd5e50f8a354bf08596f9718bf0f694",
            "placeholder": "​",
            "style": "IPY_MODEL_88c3cf4588d644d882275bb6a3de50c8",
            "value": "vocab.txt: 100%"
          }
        },
        "7c7c766e5b73462e8359f31c98492ba2": {
          "model_module": "@jupyter-widgets/controls",
          "model_name": "FloatProgressModel",
          "model_module_version": "1.5.0",
          "state": {
            "_dom_classes": [],
            "_model_module": "@jupyter-widgets/controls",
            "_model_module_version": "1.5.0",
            "_model_name": "FloatProgressModel",
            "_view_count": null,
            "_view_module": "@jupyter-widgets/controls",
            "_view_module_version": "1.5.0",
            "_view_name": "ProgressView",
            "bar_style": "success",
            "description": "",
            "description_tooltip": null,
            "layout": "IPY_MODEL_26ea2fc855514ce49755bb24f798bba1",
            "max": 231508,
            "min": 0,
            "orientation": "horizontal",
            "style": "IPY_MODEL_57f2cb5334fa47caa50ed57dd256f1f0",
            "value": 231508
          }
        },
        "85abf380c25d490696399fc11e68fa5e": {
          "model_module": "@jupyter-widgets/controls",
          "model_name": "HTMLModel",
          "model_module_version": "1.5.0",
          "state": {
            "_dom_classes": [],
            "_model_module": "@jupyter-widgets/controls",
            "_model_module_version": "1.5.0",
            "_model_name": "HTMLModel",
            "_view_count": null,
            "_view_module": "@jupyter-widgets/controls",
            "_view_module_version": "1.5.0",
            "_view_name": "HTMLView",
            "description": "",
            "description_tooltip": null,
            "layout": "IPY_MODEL_2e75a82b76d44d33bcee259905b6a2af",
            "placeholder": "​",
            "style": "IPY_MODEL_238eaeb85f6e4d1a9c7263b4093ec0d9",
            "value": " 232k/232k [00:00&lt;00:00, 3.31MB/s]"
          }
        },
        "907ed46296ac4e269d1d43188a119f1d": {
          "model_module": "@jupyter-widgets/base",
          "model_name": "LayoutModel",
          "model_module_version": "1.2.0",
          "state": {
            "_model_module": "@jupyter-widgets/base",
            "_model_module_version": "1.2.0",
            "_model_name": "LayoutModel",
            "_view_count": null,
            "_view_module": "@jupyter-widgets/base",
            "_view_module_version": "1.2.0",
            "_view_name": "LayoutView",
            "align_content": null,
            "align_items": null,
            "align_self": null,
            "border": null,
            "bottom": null,
            "display": null,
            "flex": null,
            "flex_flow": null,
            "grid_area": null,
            "grid_auto_columns": null,
            "grid_auto_flow": null,
            "grid_auto_rows": null,
            "grid_column": null,
            "grid_gap": null,
            "grid_row": null,
            "grid_template_areas": null,
            "grid_template_columns": null,
            "grid_template_rows": null,
            "height": null,
            "justify_content": null,
            "justify_items": null,
            "left": null,
            "margin": null,
            "max_height": null,
            "max_width": null,
            "min_height": null,
            "min_width": null,
            "object_fit": null,
            "object_position": null,
            "order": null,
            "overflow": null,
            "overflow_x": null,
            "overflow_y": null,
            "padding": null,
            "right": null,
            "top": null,
            "visibility": null,
            "width": null
          }
        },
        "fcd5e50f8a354bf08596f9718bf0f694": {
          "model_module": "@jupyter-widgets/base",
          "model_name": "LayoutModel",
          "model_module_version": "1.2.0",
          "state": {
            "_model_module": "@jupyter-widgets/base",
            "_model_module_version": "1.2.0",
            "_model_name": "LayoutModel",
            "_view_count": null,
            "_view_module": "@jupyter-widgets/base",
            "_view_module_version": "1.2.0",
            "_view_name": "LayoutView",
            "align_content": null,
            "align_items": null,
            "align_self": null,
            "border": null,
            "bottom": null,
            "display": null,
            "flex": null,
            "flex_flow": null,
            "grid_area": null,
            "grid_auto_columns": null,
            "grid_auto_flow": null,
            "grid_auto_rows": null,
            "grid_column": null,
            "grid_gap": null,
            "grid_row": null,
            "grid_template_areas": null,
            "grid_template_columns": null,
            "grid_template_rows": null,
            "height": null,
            "justify_content": null,
            "justify_items": null,
            "left": null,
            "margin": null,
            "max_height": null,
            "max_width": null,
            "min_height": null,
            "min_width": null,
            "object_fit": null,
            "object_position": null,
            "order": null,
            "overflow": null,
            "overflow_x": null,
            "overflow_y": null,
            "padding": null,
            "right": null,
            "top": null,
            "visibility": null,
            "width": null
          }
        },
        "88c3cf4588d644d882275bb6a3de50c8": {
          "model_module": "@jupyter-widgets/controls",
          "model_name": "DescriptionStyleModel",
          "model_module_version": "1.5.0",
          "state": {
            "_model_module": "@jupyter-widgets/controls",
            "_model_module_version": "1.5.0",
            "_model_name": "DescriptionStyleModel",
            "_view_count": null,
            "_view_module": "@jupyter-widgets/base",
            "_view_module_version": "1.2.0",
            "_view_name": "StyleView",
            "description_width": ""
          }
        },
        "26ea2fc855514ce49755bb24f798bba1": {
          "model_module": "@jupyter-widgets/base",
          "model_name": "LayoutModel",
          "model_module_version": "1.2.0",
          "state": {
            "_model_module": "@jupyter-widgets/base",
            "_model_module_version": "1.2.0",
            "_model_name": "LayoutModel",
            "_view_count": null,
            "_view_module": "@jupyter-widgets/base",
            "_view_module_version": "1.2.0",
            "_view_name": "LayoutView",
            "align_content": null,
            "align_items": null,
            "align_self": null,
            "border": null,
            "bottom": null,
            "display": null,
            "flex": null,
            "flex_flow": null,
            "grid_area": null,
            "grid_auto_columns": null,
            "grid_auto_flow": null,
            "grid_auto_rows": null,
            "grid_column": null,
            "grid_gap": null,
            "grid_row": null,
            "grid_template_areas": null,
            "grid_template_columns": null,
            "grid_template_rows": null,
            "height": null,
            "justify_content": null,
            "justify_items": null,
            "left": null,
            "margin": null,
            "max_height": null,
            "max_width": null,
            "min_height": null,
            "min_width": null,
            "object_fit": null,
            "object_position": null,
            "order": null,
            "overflow": null,
            "overflow_x": null,
            "overflow_y": null,
            "padding": null,
            "right": null,
            "top": null,
            "visibility": null,
            "width": null
          }
        },
        "57f2cb5334fa47caa50ed57dd256f1f0": {
          "model_module": "@jupyter-widgets/controls",
          "model_name": "ProgressStyleModel",
          "model_module_version": "1.5.0",
          "state": {
            "_model_module": "@jupyter-widgets/controls",
            "_model_module_version": "1.5.0",
            "_model_name": "ProgressStyleModel",
            "_view_count": null,
            "_view_module": "@jupyter-widgets/base",
            "_view_module_version": "1.2.0",
            "_view_name": "StyleView",
            "bar_color": null,
            "description_width": ""
          }
        },
        "2e75a82b76d44d33bcee259905b6a2af": {
          "model_module": "@jupyter-widgets/base",
          "model_name": "LayoutModel",
          "model_module_version": "1.2.0",
          "state": {
            "_model_module": "@jupyter-widgets/base",
            "_model_module_version": "1.2.0",
            "_model_name": "LayoutModel",
            "_view_count": null,
            "_view_module": "@jupyter-widgets/base",
            "_view_module_version": "1.2.0",
            "_view_name": "LayoutView",
            "align_content": null,
            "align_items": null,
            "align_self": null,
            "border": null,
            "bottom": null,
            "display": null,
            "flex": null,
            "flex_flow": null,
            "grid_area": null,
            "grid_auto_columns": null,
            "grid_auto_flow": null,
            "grid_auto_rows": null,
            "grid_column": null,
            "grid_gap": null,
            "grid_row": null,
            "grid_template_areas": null,
            "grid_template_columns": null,
            "grid_template_rows": null,
            "height": null,
            "justify_content": null,
            "justify_items": null,
            "left": null,
            "margin": null,
            "max_height": null,
            "max_width": null,
            "min_height": null,
            "min_width": null,
            "object_fit": null,
            "object_position": null,
            "order": null,
            "overflow": null,
            "overflow_x": null,
            "overflow_y": null,
            "padding": null,
            "right": null,
            "top": null,
            "visibility": null,
            "width": null
          }
        },
        "238eaeb85f6e4d1a9c7263b4093ec0d9": {
          "model_module": "@jupyter-widgets/controls",
          "model_name": "DescriptionStyleModel",
          "model_module_version": "1.5.0",
          "state": {
            "_model_module": "@jupyter-widgets/controls",
            "_model_module_version": "1.5.0",
            "_model_name": "DescriptionStyleModel",
            "_view_count": null,
            "_view_module": "@jupyter-widgets/base",
            "_view_module_version": "1.2.0",
            "_view_name": "StyleView",
            "description_width": ""
          }
        },
        "a3b488cc62b643139974cc5a073f27fd": {
          "model_module": "@jupyter-widgets/controls",
          "model_name": "HBoxModel",
          "model_module_version": "1.5.0",
          "state": {
            "_dom_classes": [],
            "_model_module": "@jupyter-widgets/controls",
            "_model_module_version": "1.5.0",
            "_model_name": "HBoxModel",
            "_view_count": null,
            "_view_module": "@jupyter-widgets/controls",
            "_view_module_version": "1.5.0",
            "_view_name": "HBoxView",
            "box_style": "",
            "children": [
              "IPY_MODEL_b805c30a9ea94cc1a6a0f7aac4863d62",
              "IPY_MODEL_0f1c251ae3aa48c589cc84ef1cde87ab",
              "IPY_MODEL_b972e7349d5f42f8b4acac810476376a"
            ],
            "layout": "IPY_MODEL_8151da7bcb3d44e7b82278d4162e38f4"
          }
        },
        "b805c30a9ea94cc1a6a0f7aac4863d62": {
          "model_module": "@jupyter-widgets/controls",
          "model_name": "HTMLModel",
          "model_module_version": "1.5.0",
          "state": {
            "_dom_classes": [],
            "_model_module": "@jupyter-widgets/controls",
            "_model_module_version": "1.5.0",
            "_model_name": "HTMLModel",
            "_view_count": null,
            "_view_module": "@jupyter-widgets/controls",
            "_view_module_version": "1.5.0",
            "_view_name": "HTMLView",
            "description": "",
            "description_tooltip": null,
            "layout": "IPY_MODEL_48f09851ae67432cbc8df65dec5570bb",
            "placeholder": "​",
            "style": "IPY_MODEL_119032d3907446d8a8135e5fbf5f0e6f",
            "value": "tokenizer.json: 100%"
          }
        },
        "0f1c251ae3aa48c589cc84ef1cde87ab": {
          "model_module": "@jupyter-widgets/controls",
          "model_name": "FloatProgressModel",
          "model_module_version": "1.5.0",
          "state": {
            "_dom_classes": [],
            "_model_module": "@jupyter-widgets/controls",
            "_model_module_version": "1.5.0",
            "_model_name": "FloatProgressModel",
            "_view_count": null,
            "_view_module": "@jupyter-widgets/controls",
            "_view_module_version": "1.5.0",
            "_view_name": "ProgressView",
            "bar_style": "success",
            "description": "",
            "description_tooltip": null,
            "layout": "IPY_MODEL_09d9109cd35a4401b66562d9989a9982",
            "max": 466062,
            "min": 0,
            "orientation": "horizontal",
            "style": "IPY_MODEL_86cb7fdd412c41eea4bb37d1c4b67c67",
            "value": 466062
          }
        },
        "b972e7349d5f42f8b4acac810476376a": {
          "model_module": "@jupyter-widgets/controls",
          "model_name": "HTMLModel",
          "model_module_version": "1.5.0",
          "state": {
            "_dom_classes": [],
            "_model_module": "@jupyter-widgets/controls",
            "_model_module_version": "1.5.0",
            "_model_name": "HTMLModel",
            "_view_count": null,
            "_view_module": "@jupyter-widgets/controls",
            "_view_module_version": "1.5.0",
            "_view_name": "HTMLView",
            "description": "",
            "description_tooltip": null,
            "layout": "IPY_MODEL_c305086ac68d4156b9c6612539b14bae",
            "placeholder": "​",
            "style": "IPY_MODEL_6aff7e1531d748839b391e6f84a91808",
            "value": " 466k/466k [00:00&lt;00:00, 5.94MB/s]"
          }
        },
        "8151da7bcb3d44e7b82278d4162e38f4": {
          "model_module": "@jupyter-widgets/base",
          "model_name": "LayoutModel",
          "model_module_version": "1.2.0",
          "state": {
            "_model_module": "@jupyter-widgets/base",
            "_model_module_version": "1.2.0",
            "_model_name": "LayoutModel",
            "_view_count": null,
            "_view_module": "@jupyter-widgets/base",
            "_view_module_version": "1.2.0",
            "_view_name": "LayoutView",
            "align_content": null,
            "align_items": null,
            "align_self": null,
            "border": null,
            "bottom": null,
            "display": null,
            "flex": null,
            "flex_flow": null,
            "grid_area": null,
            "grid_auto_columns": null,
            "grid_auto_flow": null,
            "grid_auto_rows": null,
            "grid_column": null,
            "grid_gap": null,
            "grid_row": null,
            "grid_template_areas": null,
            "grid_template_columns": null,
            "grid_template_rows": null,
            "height": null,
            "justify_content": null,
            "justify_items": null,
            "left": null,
            "margin": null,
            "max_height": null,
            "max_width": null,
            "min_height": null,
            "min_width": null,
            "object_fit": null,
            "object_position": null,
            "order": null,
            "overflow": null,
            "overflow_x": null,
            "overflow_y": null,
            "padding": null,
            "right": null,
            "top": null,
            "visibility": null,
            "width": null
          }
        },
        "48f09851ae67432cbc8df65dec5570bb": {
          "model_module": "@jupyter-widgets/base",
          "model_name": "LayoutModel",
          "model_module_version": "1.2.0",
          "state": {
            "_model_module": "@jupyter-widgets/base",
            "_model_module_version": "1.2.0",
            "_model_name": "LayoutModel",
            "_view_count": null,
            "_view_module": "@jupyter-widgets/base",
            "_view_module_version": "1.2.0",
            "_view_name": "LayoutView",
            "align_content": null,
            "align_items": null,
            "align_self": null,
            "border": null,
            "bottom": null,
            "display": null,
            "flex": null,
            "flex_flow": null,
            "grid_area": null,
            "grid_auto_columns": null,
            "grid_auto_flow": null,
            "grid_auto_rows": null,
            "grid_column": null,
            "grid_gap": null,
            "grid_row": null,
            "grid_template_areas": null,
            "grid_template_columns": null,
            "grid_template_rows": null,
            "height": null,
            "justify_content": null,
            "justify_items": null,
            "left": null,
            "margin": null,
            "max_height": null,
            "max_width": null,
            "min_height": null,
            "min_width": null,
            "object_fit": null,
            "object_position": null,
            "order": null,
            "overflow": null,
            "overflow_x": null,
            "overflow_y": null,
            "padding": null,
            "right": null,
            "top": null,
            "visibility": null,
            "width": null
          }
        },
        "119032d3907446d8a8135e5fbf5f0e6f": {
          "model_module": "@jupyter-widgets/controls",
          "model_name": "DescriptionStyleModel",
          "model_module_version": "1.5.0",
          "state": {
            "_model_module": "@jupyter-widgets/controls",
            "_model_module_version": "1.5.0",
            "_model_name": "DescriptionStyleModel",
            "_view_count": null,
            "_view_module": "@jupyter-widgets/base",
            "_view_module_version": "1.2.0",
            "_view_name": "StyleView",
            "description_width": ""
          }
        },
        "09d9109cd35a4401b66562d9989a9982": {
          "model_module": "@jupyter-widgets/base",
          "model_name": "LayoutModel",
          "model_module_version": "1.2.0",
          "state": {
            "_model_module": "@jupyter-widgets/base",
            "_model_module_version": "1.2.0",
            "_model_name": "LayoutModel",
            "_view_count": null,
            "_view_module": "@jupyter-widgets/base",
            "_view_module_version": "1.2.0",
            "_view_name": "LayoutView",
            "align_content": null,
            "align_items": null,
            "align_self": null,
            "border": null,
            "bottom": null,
            "display": null,
            "flex": null,
            "flex_flow": null,
            "grid_area": null,
            "grid_auto_columns": null,
            "grid_auto_flow": null,
            "grid_auto_rows": null,
            "grid_column": null,
            "grid_gap": null,
            "grid_row": null,
            "grid_template_areas": null,
            "grid_template_columns": null,
            "grid_template_rows": null,
            "height": null,
            "justify_content": null,
            "justify_items": null,
            "left": null,
            "margin": null,
            "max_height": null,
            "max_width": null,
            "min_height": null,
            "min_width": null,
            "object_fit": null,
            "object_position": null,
            "order": null,
            "overflow": null,
            "overflow_x": null,
            "overflow_y": null,
            "padding": null,
            "right": null,
            "top": null,
            "visibility": null,
            "width": null
          }
        },
        "86cb7fdd412c41eea4bb37d1c4b67c67": {
          "model_module": "@jupyter-widgets/controls",
          "model_name": "ProgressStyleModel",
          "model_module_version": "1.5.0",
          "state": {
            "_model_module": "@jupyter-widgets/controls",
            "_model_module_version": "1.5.0",
            "_model_name": "ProgressStyleModel",
            "_view_count": null,
            "_view_module": "@jupyter-widgets/base",
            "_view_module_version": "1.2.0",
            "_view_name": "StyleView",
            "bar_color": null,
            "description_width": ""
          }
        },
        "c305086ac68d4156b9c6612539b14bae": {
          "model_module": "@jupyter-widgets/base",
          "model_name": "LayoutModel",
          "model_module_version": "1.2.0",
          "state": {
            "_model_module": "@jupyter-widgets/base",
            "_model_module_version": "1.2.0",
            "_model_name": "LayoutModel",
            "_view_count": null,
            "_view_module": "@jupyter-widgets/base",
            "_view_module_version": "1.2.0",
            "_view_name": "LayoutView",
            "align_content": null,
            "align_items": null,
            "align_self": null,
            "border": null,
            "bottom": null,
            "display": null,
            "flex": null,
            "flex_flow": null,
            "grid_area": null,
            "grid_auto_columns": null,
            "grid_auto_flow": null,
            "grid_auto_rows": null,
            "grid_column": null,
            "grid_gap": null,
            "grid_row": null,
            "grid_template_areas": null,
            "grid_template_columns": null,
            "grid_template_rows": null,
            "height": null,
            "justify_content": null,
            "justify_items": null,
            "left": null,
            "margin": null,
            "max_height": null,
            "max_width": null,
            "min_height": null,
            "min_width": null,
            "object_fit": null,
            "object_position": null,
            "order": null,
            "overflow": null,
            "overflow_x": null,
            "overflow_y": null,
            "padding": null,
            "right": null,
            "top": null,
            "visibility": null,
            "width": null
          }
        },
        "6aff7e1531d748839b391e6f84a91808": {
          "model_module": "@jupyter-widgets/controls",
          "model_name": "DescriptionStyleModel",
          "model_module_version": "1.5.0",
          "state": {
            "_model_module": "@jupyter-widgets/controls",
            "_model_module_version": "1.5.0",
            "_model_name": "DescriptionStyleModel",
            "_view_count": null,
            "_view_module": "@jupyter-widgets/base",
            "_view_module_version": "1.2.0",
            "_view_name": "StyleView",
            "description_width": ""
          }
        },
        "63e9c115f9a445d6b307d4dfb7f02a2e": {
          "model_module": "@jupyter-widgets/controls",
          "model_name": "HBoxModel",
          "model_module_version": "1.5.0",
          "state": {
            "_dom_classes": [],
            "_model_module": "@jupyter-widgets/controls",
            "_model_module_version": "1.5.0",
            "_model_name": "HBoxModel",
            "_view_count": null,
            "_view_module": "@jupyter-widgets/controls",
            "_view_module_version": "1.5.0",
            "_view_name": "HBoxView",
            "box_style": "",
            "children": [
              "IPY_MODEL_8f24b3df82ea4d228414a3216420a518",
              "IPY_MODEL_118f156e68b549a0853b80720df69967",
              "IPY_MODEL_e052a77cd0604c52ab3ac8e6adb781ac"
            ],
            "layout": "IPY_MODEL_d61e4674a1934712ba0f7da929706bed"
          }
        },
        "8f24b3df82ea4d228414a3216420a518": {
          "model_module": "@jupyter-widgets/controls",
          "model_name": "HTMLModel",
          "model_module_version": "1.5.0",
          "state": {
            "_dom_classes": [],
            "_model_module": "@jupyter-widgets/controls",
            "_model_module_version": "1.5.0",
            "_model_name": "HTMLModel",
            "_view_count": null,
            "_view_module": "@jupyter-widgets/controls",
            "_view_module_version": "1.5.0",
            "_view_name": "HTMLView",
            "description": "",
            "description_tooltip": null,
            "layout": "IPY_MODEL_a66fc7aff091437ca0bd444d9fd43513",
            "placeholder": "​",
            "style": "IPY_MODEL_430a87a349014a3b98d72879ab192f47",
            "value": "config.json: 100%"
          }
        },
        "118f156e68b549a0853b80720df69967": {
          "model_module": "@jupyter-widgets/controls",
          "model_name": "FloatProgressModel",
          "model_module_version": "1.5.0",
          "state": {
            "_dom_classes": [],
            "_model_module": "@jupyter-widgets/controls",
            "_model_module_version": "1.5.0",
            "_model_name": "FloatProgressModel",
            "_view_count": null,
            "_view_module": "@jupyter-widgets/controls",
            "_view_module_version": "1.5.0",
            "_view_name": "ProgressView",
            "bar_style": "success",
            "description": "",
            "description_tooltip": null,
            "layout": "IPY_MODEL_24edd16c6e6546db9b4a4f2e21572cc6",
            "max": 570,
            "min": 0,
            "orientation": "horizontal",
            "style": "IPY_MODEL_11f2aa7ae775414181546f76cbb76a0c",
            "value": 570
          }
        },
        "e052a77cd0604c52ab3ac8e6adb781ac": {
          "model_module": "@jupyter-widgets/controls",
          "model_name": "HTMLModel",
          "model_module_version": "1.5.0",
          "state": {
            "_dom_classes": [],
            "_model_module": "@jupyter-widgets/controls",
            "_model_module_version": "1.5.0",
            "_model_name": "HTMLModel",
            "_view_count": null,
            "_view_module": "@jupyter-widgets/controls",
            "_view_module_version": "1.5.0",
            "_view_name": "HTMLView",
            "description": "",
            "description_tooltip": null,
            "layout": "IPY_MODEL_7a54e06eff3348b0aea58d7108fd0d1d",
            "placeholder": "​",
            "style": "IPY_MODEL_045076fb0b7f4459b7c7a23d951d0b5c",
            "value": " 570/570 [00:00&lt;00:00, 10.5kB/s]"
          }
        },
        "d61e4674a1934712ba0f7da929706bed": {
          "model_module": "@jupyter-widgets/base",
          "model_name": "LayoutModel",
          "model_module_version": "1.2.0",
          "state": {
            "_model_module": "@jupyter-widgets/base",
            "_model_module_version": "1.2.0",
            "_model_name": "LayoutModel",
            "_view_count": null,
            "_view_module": "@jupyter-widgets/base",
            "_view_module_version": "1.2.0",
            "_view_name": "LayoutView",
            "align_content": null,
            "align_items": null,
            "align_self": null,
            "border": null,
            "bottom": null,
            "display": null,
            "flex": null,
            "flex_flow": null,
            "grid_area": null,
            "grid_auto_columns": null,
            "grid_auto_flow": null,
            "grid_auto_rows": null,
            "grid_column": null,
            "grid_gap": null,
            "grid_row": null,
            "grid_template_areas": null,
            "grid_template_columns": null,
            "grid_template_rows": null,
            "height": null,
            "justify_content": null,
            "justify_items": null,
            "left": null,
            "margin": null,
            "max_height": null,
            "max_width": null,
            "min_height": null,
            "min_width": null,
            "object_fit": null,
            "object_position": null,
            "order": null,
            "overflow": null,
            "overflow_x": null,
            "overflow_y": null,
            "padding": null,
            "right": null,
            "top": null,
            "visibility": null,
            "width": null
          }
        },
        "a66fc7aff091437ca0bd444d9fd43513": {
          "model_module": "@jupyter-widgets/base",
          "model_name": "LayoutModel",
          "model_module_version": "1.2.0",
          "state": {
            "_model_module": "@jupyter-widgets/base",
            "_model_module_version": "1.2.0",
            "_model_name": "LayoutModel",
            "_view_count": null,
            "_view_module": "@jupyter-widgets/base",
            "_view_module_version": "1.2.0",
            "_view_name": "LayoutView",
            "align_content": null,
            "align_items": null,
            "align_self": null,
            "border": null,
            "bottom": null,
            "display": null,
            "flex": null,
            "flex_flow": null,
            "grid_area": null,
            "grid_auto_columns": null,
            "grid_auto_flow": null,
            "grid_auto_rows": null,
            "grid_column": null,
            "grid_gap": null,
            "grid_row": null,
            "grid_template_areas": null,
            "grid_template_columns": null,
            "grid_template_rows": null,
            "height": null,
            "justify_content": null,
            "justify_items": null,
            "left": null,
            "margin": null,
            "max_height": null,
            "max_width": null,
            "min_height": null,
            "min_width": null,
            "object_fit": null,
            "object_position": null,
            "order": null,
            "overflow": null,
            "overflow_x": null,
            "overflow_y": null,
            "padding": null,
            "right": null,
            "top": null,
            "visibility": null,
            "width": null
          }
        },
        "430a87a349014a3b98d72879ab192f47": {
          "model_module": "@jupyter-widgets/controls",
          "model_name": "DescriptionStyleModel",
          "model_module_version": "1.5.0",
          "state": {
            "_model_module": "@jupyter-widgets/controls",
            "_model_module_version": "1.5.0",
            "_model_name": "DescriptionStyleModel",
            "_view_count": null,
            "_view_module": "@jupyter-widgets/base",
            "_view_module_version": "1.2.0",
            "_view_name": "StyleView",
            "description_width": ""
          }
        },
        "24edd16c6e6546db9b4a4f2e21572cc6": {
          "model_module": "@jupyter-widgets/base",
          "model_name": "LayoutModel",
          "model_module_version": "1.2.0",
          "state": {
            "_model_module": "@jupyter-widgets/base",
            "_model_module_version": "1.2.0",
            "_model_name": "LayoutModel",
            "_view_count": null,
            "_view_module": "@jupyter-widgets/base",
            "_view_module_version": "1.2.0",
            "_view_name": "LayoutView",
            "align_content": null,
            "align_items": null,
            "align_self": null,
            "border": null,
            "bottom": null,
            "display": null,
            "flex": null,
            "flex_flow": null,
            "grid_area": null,
            "grid_auto_columns": null,
            "grid_auto_flow": null,
            "grid_auto_rows": null,
            "grid_column": null,
            "grid_gap": null,
            "grid_row": null,
            "grid_template_areas": null,
            "grid_template_columns": null,
            "grid_template_rows": null,
            "height": null,
            "justify_content": null,
            "justify_items": null,
            "left": null,
            "margin": null,
            "max_height": null,
            "max_width": null,
            "min_height": null,
            "min_width": null,
            "object_fit": null,
            "object_position": null,
            "order": null,
            "overflow": null,
            "overflow_x": null,
            "overflow_y": null,
            "padding": null,
            "right": null,
            "top": null,
            "visibility": null,
            "width": null
          }
        },
        "11f2aa7ae775414181546f76cbb76a0c": {
          "model_module": "@jupyter-widgets/controls",
          "model_name": "ProgressStyleModel",
          "model_module_version": "1.5.0",
          "state": {
            "_model_module": "@jupyter-widgets/controls",
            "_model_module_version": "1.5.0",
            "_model_name": "ProgressStyleModel",
            "_view_count": null,
            "_view_module": "@jupyter-widgets/base",
            "_view_module_version": "1.2.0",
            "_view_name": "StyleView",
            "bar_color": null,
            "description_width": ""
          }
        },
        "7a54e06eff3348b0aea58d7108fd0d1d": {
          "model_module": "@jupyter-widgets/base",
          "model_name": "LayoutModel",
          "model_module_version": "1.2.0",
          "state": {
            "_model_module": "@jupyter-widgets/base",
            "_model_module_version": "1.2.0",
            "_model_name": "LayoutModel",
            "_view_count": null,
            "_view_module": "@jupyter-widgets/base",
            "_view_module_version": "1.2.0",
            "_view_name": "LayoutView",
            "align_content": null,
            "align_items": null,
            "align_self": null,
            "border": null,
            "bottom": null,
            "display": null,
            "flex": null,
            "flex_flow": null,
            "grid_area": null,
            "grid_auto_columns": null,
            "grid_auto_flow": null,
            "grid_auto_rows": null,
            "grid_column": null,
            "grid_gap": null,
            "grid_row": null,
            "grid_template_areas": null,
            "grid_template_columns": null,
            "grid_template_rows": null,
            "height": null,
            "justify_content": null,
            "justify_items": null,
            "left": null,
            "margin": null,
            "max_height": null,
            "max_width": null,
            "min_height": null,
            "min_width": null,
            "object_fit": null,
            "object_position": null,
            "order": null,
            "overflow": null,
            "overflow_x": null,
            "overflow_y": null,
            "padding": null,
            "right": null,
            "top": null,
            "visibility": null,
            "width": null
          }
        },
        "045076fb0b7f4459b7c7a23d951d0b5c": {
          "model_module": "@jupyter-widgets/controls",
          "model_name": "DescriptionStyleModel",
          "model_module_version": "1.5.0",
          "state": {
            "_model_module": "@jupyter-widgets/controls",
            "_model_module_version": "1.5.0",
            "_model_name": "DescriptionStyleModel",
            "_view_count": null,
            "_view_module": "@jupyter-widgets/base",
            "_view_module_version": "1.2.0",
            "_view_name": "StyleView",
            "description_width": ""
          }
        },
        "546af4164f724d4494bda5b37e6e3b78": {
          "model_module": "@jupyter-widgets/controls",
          "model_name": "HBoxModel",
          "model_module_version": "1.5.0",
          "state": {
            "_dom_classes": [],
            "_model_module": "@jupyter-widgets/controls",
            "_model_module_version": "1.5.0",
            "_model_name": "HBoxModel",
            "_view_count": null,
            "_view_module": "@jupyter-widgets/controls",
            "_view_module_version": "1.5.0",
            "_view_name": "HBoxView",
            "box_style": "",
            "children": [
              "IPY_MODEL_d70894a0e916429184377846bd531dce",
              "IPY_MODEL_63d3b06150594d27b0893c9d76ae272c",
              "IPY_MODEL_9c5278a67b6b4b09920188a15fe1a245"
            ],
            "layout": "IPY_MODEL_ef902d8cd9954579a071b1476d82df23"
          }
        },
        "d70894a0e916429184377846bd531dce": {
          "model_module": "@jupyter-widgets/controls",
          "model_name": "HTMLModel",
          "model_module_version": "1.5.0",
          "state": {
            "_dom_classes": [],
            "_model_module": "@jupyter-widgets/controls",
            "_model_module_version": "1.5.0",
            "_model_name": "HTMLModel",
            "_view_count": null,
            "_view_module": "@jupyter-widgets/controls",
            "_view_module_version": "1.5.0",
            "_view_name": "HTMLView",
            "description": "",
            "description_tooltip": null,
            "layout": "IPY_MODEL_157604a050de4c989157dd24bf80a7b2",
            "placeholder": "​",
            "style": "IPY_MODEL_8c8f3bfd1f39477686cad95437a325c4",
            "value": "model.safetensors: 100%"
          }
        },
        "63d3b06150594d27b0893c9d76ae272c": {
          "model_module": "@jupyter-widgets/controls",
          "model_name": "FloatProgressModel",
          "model_module_version": "1.5.0",
          "state": {
            "_dom_classes": [],
            "_model_module": "@jupyter-widgets/controls",
            "_model_module_version": "1.5.0",
            "_model_name": "FloatProgressModel",
            "_view_count": null,
            "_view_module": "@jupyter-widgets/controls",
            "_view_module_version": "1.5.0",
            "_view_name": "ProgressView",
            "bar_style": "success",
            "description": "",
            "description_tooltip": null,
            "layout": "IPY_MODEL_932e8097496c46f5b2bbacb171203271",
            "max": 440449768,
            "min": 0,
            "orientation": "horizontal",
            "style": "IPY_MODEL_aae513370875443786af499efad6b7ae",
            "value": 440449768
          }
        },
        "9c5278a67b6b4b09920188a15fe1a245": {
          "model_module": "@jupyter-widgets/controls",
          "model_name": "HTMLModel",
          "model_module_version": "1.5.0",
          "state": {
            "_dom_classes": [],
            "_model_module": "@jupyter-widgets/controls",
            "_model_module_version": "1.5.0",
            "_model_name": "HTMLModel",
            "_view_count": null,
            "_view_module": "@jupyter-widgets/controls",
            "_view_module_version": "1.5.0",
            "_view_name": "HTMLView",
            "description": "",
            "description_tooltip": null,
            "layout": "IPY_MODEL_b863a6b5ecf34c578eb38c26cbb23163",
            "placeholder": "​",
            "style": "IPY_MODEL_0e32c8e256ad491882d5c105450d56fc",
            "value": " 440M/440M [00:04&lt;00:00, 71.2MB/s]"
          }
        },
        "ef902d8cd9954579a071b1476d82df23": {
          "model_module": "@jupyter-widgets/base",
          "model_name": "LayoutModel",
          "model_module_version": "1.2.0",
          "state": {
            "_model_module": "@jupyter-widgets/base",
            "_model_module_version": "1.2.0",
            "_model_name": "LayoutModel",
            "_view_count": null,
            "_view_module": "@jupyter-widgets/base",
            "_view_module_version": "1.2.0",
            "_view_name": "LayoutView",
            "align_content": null,
            "align_items": null,
            "align_self": null,
            "border": null,
            "bottom": null,
            "display": null,
            "flex": null,
            "flex_flow": null,
            "grid_area": null,
            "grid_auto_columns": null,
            "grid_auto_flow": null,
            "grid_auto_rows": null,
            "grid_column": null,
            "grid_gap": null,
            "grid_row": null,
            "grid_template_areas": null,
            "grid_template_columns": null,
            "grid_template_rows": null,
            "height": null,
            "justify_content": null,
            "justify_items": null,
            "left": null,
            "margin": null,
            "max_height": null,
            "max_width": null,
            "min_height": null,
            "min_width": null,
            "object_fit": null,
            "object_position": null,
            "order": null,
            "overflow": null,
            "overflow_x": null,
            "overflow_y": null,
            "padding": null,
            "right": null,
            "top": null,
            "visibility": null,
            "width": null
          }
        },
        "157604a050de4c989157dd24bf80a7b2": {
          "model_module": "@jupyter-widgets/base",
          "model_name": "LayoutModel",
          "model_module_version": "1.2.0",
          "state": {
            "_model_module": "@jupyter-widgets/base",
            "_model_module_version": "1.2.0",
            "_model_name": "LayoutModel",
            "_view_count": null,
            "_view_module": "@jupyter-widgets/base",
            "_view_module_version": "1.2.0",
            "_view_name": "LayoutView",
            "align_content": null,
            "align_items": null,
            "align_self": null,
            "border": null,
            "bottom": null,
            "display": null,
            "flex": null,
            "flex_flow": null,
            "grid_area": null,
            "grid_auto_columns": null,
            "grid_auto_flow": null,
            "grid_auto_rows": null,
            "grid_column": null,
            "grid_gap": null,
            "grid_row": null,
            "grid_template_areas": null,
            "grid_template_columns": null,
            "grid_template_rows": null,
            "height": null,
            "justify_content": null,
            "justify_items": null,
            "left": null,
            "margin": null,
            "max_height": null,
            "max_width": null,
            "min_height": null,
            "min_width": null,
            "object_fit": null,
            "object_position": null,
            "order": null,
            "overflow": null,
            "overflow_x": null,
            "overflow_y": null,
            "padding": null,
            "right": null,
            "top": null,
            "visibility": null,
            "width": null
          }
        },
        "8c8f3bfd1f39477686cad95437a325c4": {
          "model_module": "@jupyter-widgets/controls",
          "model_name": "DescriptionStyleModel",
          "model_module_version": "1.5.0",
          "state": {
            "_model_module": "@jupyter-widgets/controls",
            "_model_module_version": "1.5.0",
            "_model_name": "DescriptionStyleModel",
            "_view_count": null,
            "_view_module": "@jupyter-widgets/base",
            "_view_module_version": "1.2.0",
            "_view_name": "StyleView",
            "description_width": ""
          }
        },
        "932e8097496c46f5b2bbacb171203271": {
          "model_module": "@jupyter-widgets/base",
          "model_name": "LayoutModel",
          "model_module_version": "1.2.0",
          "state": {
            "_model_module": "@jupyter-widgets/base",
            "_model_module_version": "1.2.0",
            "_model_name": "LayoutModel",
            "_view_count": null,
            "_view_module": "@jupyter-widgets/base",
            "_view_module_version": "1.2.0",
            "_view_name": "LayoutView",
            "align_content": null,
            "align_items": null,
            "align_self": null,
            "border": null,
            "bottom": null,
            "display": null,
            "flex": null,
            "flex_flow": null,
            "grid_area": null,
            "grid_auto_columns": null,
            "grid_auto_flow": null,
            "grid_auto_rows": null,
            "grid_column": null,
            "grid_gap": null,
            "grid_row": null,
            "grid_template_areas": null,
            "grid_template_columns": null,
            "grid_template_rows": null,
            "height": null,
            "justify_content": null,
            "justify_items": null,
            "left": null,
            "margin": null,
            "max_height": null,
            "max_width": null,
            "min_height": null,
            "min_width": null,
            "object_fit": null,
            "object_position": null,
            "order": null,
            "overflow": null,
            "overflow_x": null,
            "overflow_y": null,
            "padding": null,
            "right": null,
            "top": null,
            "visibility": null,
            "width": null
          }
        },
        "aae513370875443786af499efad6b7ae": {
          "model_module": "@jupyter-widgets/controls",
          "model_name": "ProgressStyleModel",
          "model_module_version": "1.5.0",
          "state": {
            "_model_module": "@jupyter-widgets/controls",
            "_model_module_version": "1.5.0",
            "_model_name": "ProgressStyleModel",
            "_view_count": null,
            "_view_module": "@jupyter-widgets/base",
            "_view_module_version": "1.2.0",
            "_view_name": "StyleView",
            "bar_color": null,
            "description_width": ""
          }
        },
        "b863a6b5ecf34c578eb38c26cbb23163": {
          "model_module": "@jupyter-widgets/base",
          "model_name": "LayoutModel",
          "model_module_version": "1.2.0",
          "state": {
            "_model_module": "@jupyter-widgets/base",
            "_model_module_version": "1.2.0",
            "_model_name": "LayoutModel",
            "_view_count": null,
            "_view_module": "@jupyter-widgets/base",
            "_view_module_version": "1.2.0",
            "_view_name": "LayoutView",
            "align_content": null,
            "align_items": null,
            "align_self": null,
            "border": null,
            "bottom": null,
            "display": null,
            "flex": null,
            "flex_flow": null,
            "grid_area": null,
            "grid_auto_columns": null,
            "grid_auto_flow": null,
            "grid_auto_rows": null,
            "grid_column": null,
            "grid_gap": null,
            "grid_row": null,
            "grid_template_areas": null,
            "grid_template_columns": null,
            "grid_template_rows": null,
            "height": null,
            "justify_content": null,
            "justify_items": null,
            "left": null,
            "margin": null,
            "max_height": null,
            "max_width": null,
            "min_height": null,
            "min_width": null,
            "object_fit": null,
            "object_position": null,
            "order": null,
            "overflow": null,
            "overflow_x": null,
            "overflow_y": null,
            "padding": null,
            "right": null,
            "top": null,
            "visibility": null,
            "width": null
          }
        },
        "0e32c8e256ad491882d5c105450d56fc": {
          "model_module": "@jupyter-widgets/controls",
          "model_name": "DescriptionStyleModel",
          "model_module_version": "1.5.0",
          "state": {
            "_model_module": "@jupyter-widgets/controls",
            "_model_module_version": "1.5.0",
            "_model_name": "DescriptionStyleModel",
            "_view_count": null,
            "_view_module": "@jupyter-widgets/base",
            "_view_module_version": "1.2.0",
            "_view_name": "StyleView",
            "description_width": ""
          }
        }
      }
    }
  },
  "nbformat": 4,
  "nbformat_minor": 0
}